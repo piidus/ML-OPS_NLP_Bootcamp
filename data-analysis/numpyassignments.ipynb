{
 "cells": [
  {
   "cell_type": "markdown",
   "id": "20f4d5e4",
   "metadata": {},
   "source": [
    "# Module: NumPy Assignments\n",
    "## Lesson: NumPy"
   ]
  },
  {
   "cell_type": "markdown",
   "id": "908b8772",
   "metadata": {},
   "source": [
    "\n",
    "### Assignment 1: Array Creation and Manipulation\n",
    "\n",
    "1. Create a NumPy array of shape (5, 5) filled with random integers between 1 and 20. Replace all the elements in the third column with 1."
   ]
  },
  {
   "cell_type": "code",
   "execution_count": 1,
   "id": "b56d36c6",
   "metadata": {},
   "outputs": [
    {
     "name": "stdout",
     "output_type": "stream",
     "text": [
      "[[17 20  7 10 18]\n",
      " [ 7 15 15 17 11]\n",
      " [12  6 10 16  7]\n",
      " [20 11  7 12 11]\n",
      " [ 3 19 14 20 16]]\n"
     ]
    }
   ],
   "source": [
    "import numpy as np \n",
    "\n",
    "arr = np.array([np.random.randint(1, 21) for _ in range(25)]) # array of 25 random numbers between 1 and 20\n",
    "res = np.array(arr).reshape(5, 5)# reshaping array into 5x5\n",
    "print(res)"
   ]
  },
  {
   "cell_type": "code",
   "execution_count": 2,
   "id": "fe67f93f",
   "metadata": {},
   "outputs": [
    {
     "data": {
      "text/plain": [
       "array([[17, 20,  1, 10, 18],\n",
       "       [ 7, 15,  1, 17, 11],\n",
       "       [12,  6,  1, 16,  7],\n",
       "       [20, 11,  1, 12, 11],\n",
       "       [ 3, 19,  1, 20, 16]])"
      ]
     },
     "execution_count": 2,
     "metadata": {},
     "output_type": "execute_result"
    }
   ],
   "source": [
    "\n",
    "res[:,2:3]=1 # replacing 3rd column with 1\n",
    "res"
   ]
  },
  {
   "cell_type": "markdown",
   "id": "efd5dfff",
   "metadata": {},
   "source": [
    "2. Create a NumPy array of shape (4, 4) with values from 1 to 16. Replace the diagonal elements with 0."
   ]
  },
  {
   "cell_type": "code",
   "execution_count": 3,
   "id": "5f9c3d51",
   "metadata": {},
   "outputs": [
    {
     "data": {
      "text/plain": [
       "array([[ 1,  2,  3,  4],\n",
       "       [ 5,  1,  7,  8],\n",
       "       [ 9, 10,  1, 12],\n",
       "       [13, 14, 15,  1]])"
      ]
     },
     "execution_count": 3,
     "metadata": {},
     "output_type": "execute_result"
    }
   ],
   "source": [
    "arr = np.array([i for i in range(1, 17)]).reshape(4,4)# array of 1 to 25\n",
    "\n",
    "# Replace diagpnal with 0\n",
    "\n",
    "np.fill_diagonal(arr, 1)\n",
    "arr"
   ]
  },
  {
   "cell_type": "markdown",
   "id": "dcf388c9",
   "metadata": {},
   "source": [
    "\n",
    "\n",
    "\n",
    "### Assignment 2: Array Indexing and Slicing\n",
    "\n",
    "1. Create a NumPy array of shape (6, 6) with values from 1 to 36. Extract the sub-array consisting of the 3rd to 5th rows and 2nd to 4th columns.\n"
   ]
  },
  {
   "cell_type": "code",
   "execution_count": 4,
   "id": "bd13dd9e",
   "metadata": {},
   "outputs": [
    {
     "name": "stdout",
     "output_type": "stream",
     "text": [
      "[[13 13  3 21 35 23]\n",
      " [15 23 14 14  2 19]\n",
      " [ 4 30 20 31 33 17]\n",
      " [21  3 16 33 36 14]\n",
      " [ 7 11 20 22 32 32]\n",
      " [ 4 23 33 17 35 21]]\n",
      "[[16 33]\n",
      " [20 22]\n",
      " [33 17]]\n"
     ]
    }
   ],
   "source": [
    "arr = np.array(np.random.randint(1, 37, 36)).reshape(6,6)\n",
    "print(arr)\n",
    "sub_array = arr[3:6, 2:4] # 3rd and 5th row and 3rd and 4th column\n",
    "print(sub_array)"
   ]
  },
  {
   "cell_type": "markdown",
   "id": "791dd265",
   "metadata": {},
   "source": [
    "2. Create a NumPy array of shape (5, 5) with random integers. Extract the elements on the border."
   ]
  },
  {
   "cell_type": "code",
   "execution_count": 5,
   "id": "b405051e",
   "metadata": {},
   "outputs": [
    {
     "name": "stdout",
     "output_type": "stream",
     "text": [
      "[15 46 77 19 99 55 18 19 65  2 15 43 84 28 55 99 78  2 99  2]\n"
     ]
    }
   ],
   "source": [
    "# Create a NumPy array of shape (5, 5) with random integers\n",
    "arr = np.random.randint(0, 100, size=(5, 5))\n",
    "\n",
    "# Extract the elements on the border\n",
    "border_elements = np.concatenate((arr[0, :], arr[-1, :], arr[:, 0], arr[:, -1]))\n",
    "\n",
    "# Print the border elements\n",
    "print(border_elements)"
   ]
  },
  {
   "cell_type": "markdown",
   "id": "ad0184a0",
   "metadata": {},
   "source": [
    "### Assignment 3: Array Operations\n",
    "\n",
    "1. Create two NumPy arrays of shape (3, 4) filled with random integers. Perform element-wise addition, subtraction, multiplication, and division."
   ]
  },
  {
   "cell_type": "code",
   "execution_count": 6,
   "id": "b84c10a1",
   "metadata": {},
   "outputs": [
    {
     "name": "stdout",
     "output_type": "stream",
     "text": [
      "[[142  36  41  90]\n",
      " [151  42  98 138]\n",
      " [ 84  68  33 113]]\n",
      "[[-16  -8   5  58]\n",
      " [ 31 -26  66 -16]\n",
      " [ 84  54  25  53]]\n",
      "[[4977  308  414 1184]\n",
      " [5460  272 1312 4697]\n",
      " [   0  427  116 2490]]\n",
      "[[0.79746835 0.63636364 1.27777778 4.625     ]\n",
      " [1.51666667 0.23529412 5.125      0.79220779]\n",
      " [       inf 8.71428571 7.25       2.76666667]]\n"
     ]
    },
    {
     "name": "stderr",
     "output_type": "stream",
     "text": [
      "C:\\Users\\HP\\AppData\\Local\\Temp\\ipykernel_5224\\2184046782.py:15: RuntimeWarning: divide by zero encountered in divide\n",
      "  division = arr1 / arr2\n"
     ]
    }
   ],
   "source": [
    "# Create two NumPy arrays of shape (3, 4) filled with random integers\n",
    "arr1 = np.random.randint(0, 100, size=(3, 4))\n",
    "arr2 = np.random.randint(0, 100, size=(3, 4))\n",
    "\n",
    "# Perform element-wise addition\n",
    "addition = arr1 + arr2\n",
    "print(addition)\n",
    "# Perform element-wise subtraction\n",
    "subtraction = arr1 - arr2\n",
    "print(subtraction)\n",
    "# Perform element-wise multiplication\n",
    "multiplication = arr1 * arr2\n",
    "print(multiplication)\n",
    "# Perform element-wise division (note that division by zero will result in an error)\n",
    "division = arr1 / arr2\n",
    "print(division)"
   ]
  },
  {
   "cell_type": "markdown",
   "id": "b9cefc0e",
   "metadata": {},
   "source": [
    "\n",
    "\n",
    "\n",
    "2. Create a NumPy array of shape (4, 4) with values from 1 to 16. Compute the row-wise and column-wise sum."
   ]
  },
  {
   "cell_type": "code",
   "execution_count": 7,
   "id": "f42c1547",
   "metadata": {},
   "outputs": [
    {
     "name": "stdout",
     "output_type": "stream",
     "text": [
      "[10 26 42 58]\n",
      "[28 32 36 40]\n"
     ]
    }
   ],
   "source": [
    "# Create a NumPy array of shape (4, 4) with values from 1 to 16\n",
    "arr = np.arange(1, 17).reshape(4, 4)\n",
    "\n",
    "# Compute the row-wise sum\n",
    "row_sum = arr.sum(axis=1)\n",
    "print(row_sum)      \n",
    "# Compute the column-wise sum\n",
    "col_sum = arr.sum(axis=0)\n",
    "print(col_sum)"
   ]
  },
  {
   "cell_type": "markdown",
   "id": "e7897317",
   "metadata": {},
   "source": [
    "\n",
    "\n",
    "### Assignment 4: Statistical Operations\n",
    "\n",
    "1. Create a NumPy array of shape (5, 5) filled with random integers. Compute the mean, median, standard deviation, and variance of the array."
   ]
  },
  {
   "cell_type": "code",
   "execution_count": 8,
   "id": "aca93956",
   "metadata": {},
   "outputs": [
    {
     "name": "stdout",
     "output_type": "stream",
     "text": [
      "69.92 79.0 26.144093023090317 683.5135999999999\n"
     ]
    }
   ],
   "source": [
    "# Create a NumPy array of shape (5, 5) filled with random integers\n",
    "arr = np.random.randint(0, 100, size=(5, 5))\n",
    "\n",
    "# Compute the mean\n",
    "mean = np.mean(arr)\n",
    "\n",
    "# Compute the median\n",
    "median = np.median(arr)\n",
    "\n",
    "# Compute the standard deviation\n",
    "std = np.std(arr)\n",
    "\n",
    "# Compute the variance\n",
    "variance = np.var(arr)\n",
    "print(mean, median, std, variance)"
   ]
  },
  {
   "cell_type": "markdown",
   "id": "f2683f70",
   "metadata": {},
   "source": [
    "\n",
    "2. Create a NumPy array of shape (3, 3) with values from 1 to 9. Normalize the array (i.e., scale the values to have a mean of 0 and a standard deviation of 1)."
   ]
  },
  {
   "cell_type": "code",
   "execution_count": 9,
   "id": "3e04be3b",
   "metadata": {},
   "outputs": [
    {
     "name": "stdout",
     "output_type": "stream",
     "text": [
      "[[-1.54919334 -1.161895   -0.77459667]\n",
      " [-0.38729833  0.          0.38729833]\n",
      " [ 0.77459667  1.161895    1.54919334]]\n"
     ]
    }
   ],
   "source": [
    "# Create a NumPy array of shape (3, 3) with values from 1 to 9\n",
    "arr = np.arange(1, 10).reshape(3, 3)\n",
    "\n",
    "# Normalize the array\n",
    "normalized_arr = (arr - np.mean(arr)) / np.std(arr)\n",
    "\n",
    "print(normalized_arr)"
   ]
  },
  {
   "cell_type": "markdown",
   "id": "2fc305ce",
   "metadata": {},
   "source": [
    "\n",
    "\n",
    "### Assignment 5: Broadcasting\n",
    "\n",
    "1. Create a NumPy array of shape (3, 3) filled with random integers. Add a 1D array of shape (3,) to each row of the 2D array using broadcasting."
   ]
  },
  {
   "cell_type": "code",
   "execution_count": 10,
   "id": "2c846884",
   "metadata": {},
   "outputs": [
    {
     "name": "stdout",
     "output_type": "stream",
     "text": [
      "[[79 29 99]\n",
      " [ 8 33 74]\n",
      " [19 48 92]] \n",
      "\n",
      "[ 4 91 99] \n",
      "\n",
      "[[ 83  33 103]\n",
      " [ 99 124 165]\n",
      " [118 147 191]]\n"
     ]
    }
   ],
   "source": [
    "# Create a NumPy array of shape (3, 3) filled with random integers\n",
    "arr = np.random.randint(0, 100, size=(3, 3))\n",
    "print(arr, '\\n')\n",
    "# Create a 1D array of shape (3,) filled with random integers\n",
    "vector = np.random.randint(0, 100, size=(3,))\n",
    "print(vector, '\\n')\n",
    "# Add the 1D array to each row of the 2D array using broadcasting\n",
    "result = arr + vector[:, np.newaxis]\n",
    "\n",
    "print(result)"
   ]
  },
  {
   "cell_type": "markdown",
   "id": "ce6c88ee",
   "metadata": {},
   "source": [
    "2. Create a NumPy array of shape (4, 4) filled with random integers. Subtract a 1D array of shape (4,) from each column of the 2D array using broadcasting."
   ]
  },
  {
   "cell_type": "code",
   "execution_count": 11,
   "id": "a6acbce3",
   "metadata": {},
   "outputs": [
    {
     "name": "stdout",
     "output_type": "stream",
     "text": [
      "[[53 51 65 31]\n",
      " [89 24 20 34]\n",
      " [27 63 18 67]\n",
      " [30  8 42 42]] \n",
      "\n",
      "[ 9 58 40  0] \n",
      "\n",
      "[[ 44  42  56  22]\n",
      " [ 31 -34 -38 -24]\n",
      " [-13  23 -22  27]\n",
      " [ 30   8  42  42]]\n"
     ]
    }
   ],
   "source": [
    "# Create a NumPy array of shape (4, 4) filled with random integers\n",
    "arr = np.random.randint(0, 100, size=(4, 4))\n",
    "print(arr, '\\n')\n",
    "# Create a 1D array of shape (4,) filled with random integers\n",
    "vector = np.random.randint(0, 100, size=(4,))\n",
    "print(vector, '\\n')\n",
    "# Subtract the 1D array from each column of the 2D array using broadcasting\n",
    "result = arr - vector[:, np.newaxis]\n",
    "\n",
    "print(result)"
   ]
  },
  {
   "cell_type": "markdown",
   "id": "8ff92c17",
   "metadata": {},
   "source": [
    "\n",
    "\n",
    "\n",
    "### Assignment 6: Linear Algebra\n",
    "\n",
    "1. Create a NumPy array of shape (3, 3) representing a matrix. Compute its determinant, inverse, and eigenvalues."
   ]
  },
  {
   "cell_type": "code",
   "execution_count": 12,
   "id": "e3fdb67b",
   "metadata": {},
   "outputs": [
    {
     "name": "stdout",
     "output_type": "stream",
     "text": [
      "Matrix:\n",
      " [[5 5 8]\n",
      " [4 1 8]\n",
      " [8 3 6]]\n",
      "Determinant: 141.9999999999999\n",
      "Inverse:\n",
      " [[-0.12676056 -0.04225352  0.22535211]\n",
      " [ 0.28169014 -0.23943662 -0.05633803]\n",
      " [ 0.02816901  0.17605634 -0.1056338 ]]\n",
      "Eigenvalues: [16.56283169+0.j         -2.28141584+1.83536235j -2.28141584-1.83536235j]\n",
      "Eigenvectors:\n",
      " [[ 0.63016198+0.j          0.11769296+0.47561645j  0.11769296-0.47561645j]\n",
      " [ 0.47693357+0.j         -0.73265431+0.j         -0.73265431-0.j        ]\n",
      " [ 0.61272363+0.j          0.24167145-0.40589399j  0.24167145+0.40589399j]]\n"
     ]
    }
   ],
   "source": [
    "# Create a random 3x3 matrix\n",
    "matrix = np.random.randint(1, 10, size=(3, 3))\n",
    "print(\"Matrix:\\n\", matrix)\n",
    "\n",
    "# Compute the determinant\n",
    "determinant = np.linalg.det(matrix)\n",
    "print(\"Determinant:\", determinant)\n",
    "\n",
    "# Compute the inverse\n",
    "inverse = np.linalg.inv(matrix)\n",
    "print(\"Inverse:\\n\", inverse)\n",
    "\n",
    "# Compute the eigenvalues\n",
    "eigenvalues, eigenvectors = np.linalg.eig(matrix)\n",
    "print(\"Eigenvalues:\", eigenvalues)\n",
    "print(\"Eigenvectors:\\n\", eigenvectors)\n"
   ]
  },
  {
   "cell_type": "markdown",
   "id": "b2ff6085",
   "metadata": {},
   "source": [
    "2. Create two NumPy arrays of shape (2, 3) and (3, 2). Perform matrix multiplication on these arrays."
   ]
  },
  {
   "cell_type": "code",
   "execution_count": 13,
   "id": "7ff27b43",
   "metadata": {},
   "outputs": [
    {
     "name": "stdout",
     "output_type": "stream",
     "text": [
      "[[ 58  64]\n",
      " [139 154]]\n"
     ]
    }
   ],
   "source": [
    "# Create a NumPy array of shape (2, 3)\n",
    "arr1 = np.array([[1, 2, 3], [4, 5, 6]])\n",
    "\n",
    "# Create a NumPy array of shape (3, 2)\n",
    "arr2 = np.array([[7, 8], [9, 10], [11, 12]])\n",
    "\n",
    "# Perform matrix multiplication\n",
    "result = arr1 @ arr2\n",
    "print(result)"
   ]
  },
  {
   "cell_type": "markdown",
   "id": "195ab461",
   "metadata": {},
   "source": [
    "\n",
    "\n",
    "\n",
    "### Assignment 7: Advanced Array Manipulation\n",
    "\n",
    "1. Create a NumPy array of shape (3, 3) with values from 1 to 9. Reshape the array to shape (1, 9) and then to shape (9, 1)."
   ]
  },
  {
   "cell_type": "code",
   "execution_count": 14,
   "id": "1f6af470",
   "metadata": {},
   "outputs": [
    {
     "name": "stdout",
     "output_type": "stream",
     "text": [
      "[[1 2 3]\n",
      " [4 5 6]\n",
      " [7 8 9]] \n",
      "\n",
      "[[1 2 3 4 5 6 7 8 9]] \n",
      "\n",
      "[[1]\n",
      " [2]\n",
      " [3]\n",
      " [4]\n",
      " [5]\n",
      " [6]\n",
      " [7]\n",
      " [8]\n",
      " [9]]\n"
     ]
    }
   ],
   "source": [
    "arr = np.arange(1, 10).reshape(3, 3)\n",
    "print(arr, '\\n')\n",
    "# Reshape the array to shape (1, 9)\n",
    "reshaped_arr1 = arr.reshape(1, 9)\n",
    "print(reshaped_arr1, '\\n')\n",
    "# Reshape the array to shape (9, 1)\n",
    "reshaped_arr2 = arr.reshape(9, 1)\n",
    "print(reshaped_arr2)"
   ]
  },
  {
   "cell_type": "markdown",
   "id": "55cad38f",
   "metadata": {},
   "source": [
    "\n",
    "2. Create a NumPy array of shape (5, 5) filled with random integers. Flatten the array and then reshape it back to (5, 5)."
   ]
  },
  {
   "cell_type": "code",
   "execution_count": 15,
   "id": "70c5f238",
   "metadata": {},
   "outputs": [
    {
     "name": "stdout",
     "output_type": "stream",
     "text": [
      "[[92 87 26 45 30]\n",
      " [61 97 88 83  0]\n",
      " [40 52 11 63 33]\n",
      " [13 68 98 53 69]\n",
      " [22 24 88 33 97]] \n",
      "\n",
      "[92 87 26 45 30 61 97 88 83  0 40 52 11 63 33 13 68 98 53 69 22 24 88 33\n",
      " 97] \n",
      "\n",
      "[[92 87 26 45 30]\n",
      " [61 97 88 83  0]\n",
      " [40 52 11 63 33]\n",
      " [13 68 98 53 69]\n",
      " [22 24 88 33 97]]\n"
     ]
    }
   ],
   "source": [
    "# Create a NumPy array of shape (5, 5) filled with random integers\n",
    "arr = np.random.randint(0, 100, size=(5, 5))\n",
    "print(arr, '\\n')\n",
    "# Flatten the array\n",
    "flattened_arr = arr.flatten()\n",
    "print(flattened_arr, '\\n')\n",
    "# Reshape the flattened array back to (5, 5)\n",
    "reshaped_arr = flattened_arr.reshape(5, 5)\n",
    "print(reshaped_arr)"
   ]
  },
  {
   "cell_type": "markdown",
   "id": "9220e338",
   "metadata": {},
   "source": [
    "\n",
    "\n",
    "### Assignment 8: Fancy Indexing and Boolean Indexing\n",
    "\n",
    "1. Create a NumPy array of shape (5, 5) filled with random integers. Use fancy indexing to extract the elements at the corners of the array."
   ]
  },
  {
   "cell_type": "code",
   "execution_count": 16,
   "id": "706a6b60",
   "metadata": {},
   "outputs": [
    {
     "name": "stdout",
     "output_type": "stream",
     "text": [
      "[[74 90 58 33 10]\n",
      " [50 92 89 78 22]\n",
      " [84 90 93  9 18]\n",
      " [81 69 93 68 26]\n",
      " [15 20 61 30 12]] \n",
      "\n",
      "[[ 0  0]\n",
      " [ 0 -1]\n",
      " [-1  0]\n",
      " [-1 -1]] \n",
      "\n",
      "[[[74 90 58 33 10]\n",
      "  [74 90 58 33 10]]\n",
      "\n",
      " [[74 90 58 33 10]\n",
      "  [15 20 61 30 12]]\n",
      "\n",
      " [[15 20 61 30 12]\n",
      "  [74 90 58 33 10]]\n",
      "\n",
      " [[15 20 61 30 12]\n",
      "  [15 20 61 30 12]]]\n"
     ]
    }
   ],
   "source": [
    "# Create a NumPy array of shape (5, 5) filled with random integers\n",
    "arr = np.random.randint(0, 100, size=(5, 5))\n",
    "print(arr, '\\n')\n",
    "# Define the indices of the corners\n",
    "indices = np.array([[0, 0], [0, -1], [-1, 0], [-1, -1]])\n",
    "print(indices, '\\n')\n",
    "# Extract the elements at the corners using fancy indexing\n",
    "corner_elements = arr[indices]\n",
    "print(corner_elements)"
   ]
  },
  {
   "cell_type": "markdown",
   "id": "9ab15b4f",
   "metadata": {},
   "source": [
    "\n",
    "2. Create a NumPy array of shape (4, 4) filled with random integers. Use boolean indexing to set all elements greater than 10 to 10."
   ]
  },
  {
   "cell_type": "code",
   "execution_count": 17,
   "id": "18849845",
   "metadata": {},
   "outputs": [
    {
     "name": "stdout",
     "output_type": "stream",
     "text": [
      "[[39 31 62 71]\n",
      " [17 46 35 26]\n",
      " [97 91 35  3]\n",
      " [93 14 99 60]] \n",
      "\n",
      "[[ True  True  True  True]\n",
      " [ True  True  True  True]\n",
      " [ True  True  True False]\n",
      " [ True  True  True  True]] \n",
      "\n",
      "[[10 10 10 10]\n",
      " [10 10 10 10]\n",
      " [10 10 10  3]\n",
      " [10 10 10 10]]\n"
     ]
    }
   ],
   "source": [
    "# Create a NumPy array of shape (4, 4) filled with random integers\n",
    "arr = np.random.randint(0, 100, size=(4, 4))\n",
    "print(arr, '\\n')\n",
    "# Create a boolean mask to identify elements greater than 10\n",
    "mask = arr > 10\n",
    "print(mask, '\\n')\n",
    "# Set the elements greater than 10 to 10 using boolean indexing\n",
    "arr[mask] = 10\n",
    "print(arr)"
   ]
  },
  {
   "cell_type": "markdown",
   "id": "7129cb9b",
   "metadata": {},
   "source": [
    "\n",
    "### Assignment 9: Structured Arrays\n",
    "\n",
    "1. Create a structured array with fields 'name' (string), 'age' (integer), and 'weight' (float). Add some data and sort the array by age."
   ]
  },
  {
   "cell_type": "code",
   "execution_count": 18,
   "id": "3a7c2cf0",
   "metadata": {},
   "outputs": [
    {
     "name": "stdout",
     "output_type": "stream",
     "text": [
      "[('name', 'S10'), ('age', '<i4'), ('weight', '<f4')] \n",
      "\n",
      "[(b'Alice', 25, 55.5) (b'Bob', 30, 70. ) (b'Charlie', 20, 50. )] \n",
      "\n",
      "[(b'Charlie', 20, 50. ) (b'Alice', 25, 55.5) (b'Bob', 30, 70. )] \n",
      "\n",
      "[(b'Charlie', 20, 50. ) (b'Alice', 25, 55.5) (b'Bob', 30, 70. )]\n"
     ]
    }
   ],
   "source": [
    "# Define the dtype for the structured array\n",
    "dtype = np.dtype([('name', 'S10'), ('age', 'i4'), ('weight', 'f4')])\n",
    "print(dtype, '\\n')\n",
    "# Create the structured array\n",
    "arr = np.array([('Alice', 25, 55.5), ('Bob', 30, 70.0), ('Charlie', 20, 50.0)], dtype=dtype)\n",
    "print(arr, '\\n')\n",
    "# Sort the array by age\n",
    "arr = arr[arr['age'].argsort()]\n",
    "print(arr, '\\n')\n",
    "# Print the sorted array\n",
    "print(arr)"
   ]
  },
  {
   "cell_type": "markdown",
   "id": "e470969b",
   "metadata": {},
   "source": [
    "\n",
    "\n",
    "2. Create a structured array with fields 'x' and 'y' (both integers). Add some data and compute the Euclidean distance between each pair of points."
   ]
  },
  {
   "cell_type": "code",
   "execution_count": 19,
   "id": "91a6d4cd",
   "metadata": {},
   "outputs": [
    {
     "name": "stdout",
     "output_type": "stream",
     "text": [
      "[[0.         2.82842712 5.65685425]\n",
      " [2.82842712 0.         2.82842712]\n",
      " [5.65685425 2.82842712 0.        ]]\n"
     ]
    }
   ],
   "source": [
    "# Create a structured array with fields 'x' and 'y' (both integers)\n",
    "data_type = [('x', int), ('y', int)]\n",
    "points = np.array([(1, 2), (3, 4), (5, 6)], dtype=data_type)\n",
    "\n",
    "# Extract x and y coordinates as separate NumPy arrays\n",
    "x_coords = points['x']\n",
    "y_coords = points['y']\n",
    "\n",
    "# Create a 2D array of coordinates\n",
    "coords = np.column_stack((x_coords, y_coords))\n",
    "\n",
    "# Function to calculate Euclidean distance\n",
    "def euclidean_distance(p1, p2):\n",
    "    return np.sqrt(np.sum((p1 - p2)**2))\n",
    "\n",
    "# Compute distances between all pairs of points\n",
    "num_points = len(coords)\n",
    "distances = np.zeros((num_points, num_points))\n",
    "\n",
    "for i in range(num_points):\n",
    "    for j in range(i+1, num_points):  # Avoid redundant calculations\n",
    "        distances[i, j] = euclidean_distance(coords[i], coords[j])\n",
    "        distances[j, i] = distances[i, j]  # Symmetric matrix\n",
    "\n",
    "print(distances)\n",
    "\n"
   ]
  },
  {
   "cell_type": "markdown",
   "id": "6db6e2d9",
   "metadata": {},
   "source": [
    "\n",
    "\n",
    "### Assignment 10: Masked Arrays\n",
    "\n",
    "1. Create a masked array of shape (4, 4) with random integers and mask the elements greater than 10. Compute the sum of the unmasked elements."
   ]
  },
  {
   "cell_type": "code",
   "execution_count": 20,
   "id": "22a4baf5",
   "metadata": {},
   "outputs": [
    {
     "name": "stdout",
     "output_type": "stream",
     "text": [
      "--\n"
     ]
    }
   ],
   "source": [
    "# Create a masked array of shape (4, 4) with random integers\n",
    "arr = np.ma.array(np.random.randint(0, 100, size=(4, 4)), mask=np.random.randint(0, 2, size=(4, 4)) > 0)\n",
    "\n",
    "# Mask the elements greater than 10\n",
    "arr[arr > 10] = np.ma.masked\n",
    "\n",
    "# Compute the sum of the unmasked elements\n",
    "sum_unmasked = np.ma.sum(arr)\n",
    "\n",
    "# Print the sum of the unmasked elements\n",
    "print(sum_unmasked)"
   ]
  },
  {
   "cell_type": "markdown",
   "metadata": {},
   "source": [
    "\n",
    "2. Create a masked array of shape (3, 3) with random integers and mask the diagonal elements. Replace the masked elements with the mean of the unmasked elements."
   ]
  },
  {
   "cell_type": "code",
   "execution_count": 21,
   "metadata": {},
   "outputs": [
    {
     "name": "stdout",
     "output_type": "stream",
     "text": [
      "[[46 81 9]\n",
      " [42 46 9]\n",
      " [41 98 46]]\n"
     ]
    }
   ],
   "source": [
    "# Create a masked array of shape (3, 3) with random integers\n",
    "arr = np.ma.array(np.random.randint(0, 100, size=(3, 3)))\n",
    "\n",
    "# Mask the diagonal elements\n",
    "arr.mask = np.eye(3, dtype=bool)\n",
    "\n",
    "# Compute the mean of the unmasked elements\n",
    "mean = np.ma.mean(arr)\n",
    "\n",
    "# Replace the masked elements with the mean\n",
    "arr[arr.mask] = mean\n",
    "\n",
    "# Print the updated array\n",
    "print(arr)"
   ]
  }
 ],
 "metadata": {
  "kernelspec": {
   "display_name": "Python 3",
   "language": "python",
   "name": "python3"
  },
  "language_info": {
   "codemirror_mode": {
    "name": "ipython",
    "version": 3
   },
   "file_extension": ".py",
   "mimetype": "text/x-python",
   "name": "python",
   "nbconvert_exporter": "python",
   "pygments_lexer": "ipython3",
   "version": "3.12.2"
  }
 },
 "nbformat": 4,
 "nbformat_minor": 5
}
