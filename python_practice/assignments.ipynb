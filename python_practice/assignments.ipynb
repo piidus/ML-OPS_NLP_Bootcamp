{
 "cells": [
  {
   "cell_type": "markdown",
   "id": "c77f8442",
   "metadata": {},
   "source": [
    "# Module 2: Control Flow Assignments\n",
    "## Lesson 2.1: Conditional Statements"
   ]
  },
  {
   "cell_type": "code",
   "execution_count": 2,
   "id": "a397672d",
   "metadata": {},
   "outputs": [
    {
     "name": "stdout",
     "output_type": "stream",
     "text": [
      "The number is positive 55\n"
     ]
    }
   ],
   "source": [
    "### Assignment 1: Simple if Statement\n",
    "#Write a program that asks the user to input a number and prints whether the number is positive.\n",
    "\n",
    "number = float(input(\"Enter a number: \"))\n",
    "if number > 0:\n",
    "    print(\"The number is positive\", number)"
   ]
  },
  {
   "cell_type": "code",
   "execution_count": 4,
   "id": "8e5cada5",
   "metadata": {},
   "outputs": [
    {
     "name": "stdout",
     "output_type": "stream",
     "text": [
      "The number is positive 440.4444444\n"
     ]
    }
   ],
   "source": [
    "### Assignment 2: if-else Statement\n",
    "\n",
    "# Write a program that asks the user to input a number and prints whether the number is positive or negative.\n",
    "number = float(input(\"Enter a number: \"))\n",
    "if number > 0:\n",
    "    print(\"The number is positive\", number)\n",
    "elif number < 0:\n",
    "    print(\"The number is negative\", number)\n",
    "elif number == 0:\n",
    "    print(\"The number is zero\", number)\n",
    "else:\n",
    "    print(\"Not a number\")\n"
   ]
  },
  {
   "cell_type": "code",
   "execution_count": 5,
   "id": "046e333b",
   "metadata": {},
   "outputs": [
    {
     "name": "stdout",
     "output_type": "stream",
     "text": [
      "The number is positive 898.0\n"
     ]
    }
   ],
   "source": [
    "### Assignment 3: if-elif-else Statement\n",
    "\n",
    "# Write a program that asks the user to input a number and prints whether the number is positive, negative, or zero.\n",
    "number = float(input(\"Enter a number: \"))\n",
    "if number > 0:\n",
    "    print(\"The number is positive\", number)\n",
    "elif number < 0:\n",
    "    print(\"The number is negative\", number)\n",
    "elif number == 0:\n",
    "    print(\"The number is zero\", number)\n",
    "else:\n",
    "    print(\"Not a number\")\n",
    "\n"
   ]
  },
  {
   "cell_type": "markdown",
   "id": "bd78309a",
   "metadata": {},
   "source": [
    "### Assignment 4: Nested if Statement\n",
    "\n",
    "Write a program that asks the user to input a number and prints whether the number is positive and even, positive and odd, or negative."
   ]
  },
  {
   "cell_type": "code",
   "execution_count": 3,
   "id": "e51a5c3f",
   "metadata": {},
   "outputs": [
    {
     "name": "stdout",
     "output_type": "stream",
     "text": [
      "The number is even 50.0\n"
     ]
    }
   ],
   "source": [
    "user_nymber = float(input(\"Enter a number: \"))\n",
    "if user_nymber > 0:\n",
    "    if user_nymber % 2 == 0:\n",
    "        print(\"The number is even\", user_nymber)\n",
    "    else:\n",
    "        print(\"The number is odd\", user_nymber)\n",
    "    \n",
    "elif user_nymber < 0:\n",
    "    print(\"The number is negative\", user_nymber)\n",
    "elif user_nymber == 0:\n",
    "    print(\"The number is zero\", user_nymber)\n",
    "else:\n",
    "    print(\"Not a number\")"
   ]
  },
  {
   "cell_type": "markdown",
   "id": "4e66873d",
   "metadata": {},
   "source": [
    "## Lesson 2.2: Loops\n",
    "### Assignment 5: for Loop\n",
    "\n",
    "Write a program that prints all the numbers from 1 to 10 using a for loop.\n"
   ]
  },
  {
   "cell_type": "code",
   "execution_count": 5,
   "id": "432baac8",
   "metadata": {},
   "outputs": [
    {
     "name": "stdout",
     "output_type": "stream",
     "text": [
      "1\n",
      "2\n",
      "3\n",
      "4\n",
      "5\n",
      "6\n",
      "7\n",
      "8\n",
      "9\n",
      "10\n"
     ]
    }
   ],
   "source": [
    "num = [print(x) for x in range(1,11)]"
   ]
  },
  {
   "cell_type": "markdown",
   "id": "81ce161f",
   "metadata": {},
   "source": [
    "### Assignment 6: while Loop\n",
    "\n",
    "Write a program that prints all the numbers from 1 to 10 using a while loop."
   ]
  },
  {
   "cell_type": "code",
   "execution_count": 6,
   "id": "e5574b28",
   "metadata": {},
   "outputs": [
    {
     "name": "stdout",
     "output_type": "stream",
     "text": [
      "1\n",
      "2\n",
      "3\n",
      "4\n",
      "5\n",
      "6\n",
      "7\n",
      "8\n",
      "9\n",
      "10\n"
     ]
    }
   ],
   "source": [
    "high_number:int = 10\n",
    "count:int = 1\n",
    "while count <= high_number:\n",
    "    print(count)\n",
    "    count += 1"
   ]
  },
  {
   "cell_type": "markdown",
   "id": "f63bfaac",
   "metadata": {},
   "source": [
    "### Assignment 7: Nested Loops\n",
    "\n",
    "Write a program that prints a 5x5 grid of asterisks (*) using nested loops."
   ]
  },
  {
   "cell_type": "code",
   "execution_count": 8,
   "id": "836ef28a",
   "metadata": {},
   "outputs": [
    {
     "name": "stdout",
     "output_type": "stream",
     "text": [
      "* * * * * \n",
      "* * * * * \n",
      "* * * * * \n",
      "* * * * * \n",
      "* * * * * \n"
     ]
    }
   ],
   "source": [
    "# Define the size of the grid\n",
    "size = 5\n",
    "\n",
    "# Loop through rows\n",
    "for i in range(size):\n",
    "    # Loop through columns\n",
    "    for j in range(size):\n",
    "        print(\"*\", end=\" \")\n",
    "    print()  # Move to the next line for the next row"
   ]
  },
  {
   "cell_type": "markdown",
   "id": "2f8428ee",
   "metadata": {},
   "source": [
    "### Assignment 8: break Statement\n",
    "\n",
    "Write a program that asks the user to input numbers until they input 0. The program should print the sum of all the input numbers."
   ]
  },
  {
   "cell_type": "code",
   "execution_count": 10,
   "id": "261b3b74",
   "metadata": {},
   "outputs": [
    {
     "name": "stdout",
     "output_type": "stream",
     "text": [
      "5.0\n",
      "8.0\n",
      "10.0\n",
      "0.0\n",
      "5.0\n",
      "program is done\n"
     ]
    }
   ],
   "source": [
    "state = True\n",
    "sum_value = 0\n",
    "while state:\n",
    "    user_nymber = float(input(\"Enter a number: \"))\n",
    "    if user_nymber == 0:\n",
    "        print('program is done')\n",
    "        break\n",
    "    else:\n",
    "        sum_value += user_nymber\n",
    "        print(sum_value)\n"
   ]
  },
  {
   "cell_type": "markdown",
   "id": "b639dbe1",
   "metadata": {},
   "source": [
    "### Assignment 9: continue Statement\n",
    "\n",
    "Write a program that prints all the numbers from 1 to 10 except 5 using a for loop and continue statement."
   ]
  },
  {
   "cell_type": "code",
   "execution_count": 12,
   "id": "c178ed3b",
   "metadata": {},
   "outputs": [
    {
     "name": "stdout",
     "output_type": "stream",
     "text": [
      "1\n",
      "2\n",
      "3\n",
      "4\n",
      "6\n",
      "7\n",
      "8\n",
      "9\n",
      "10\n"
     ]
    }
   ],
   "source": [
    "for i in range(1,11):\n",
    "    if i == 5:\n",
    "        continue\n",
    "    print(i)"
   ]
  },
  {
   "cell_type": "markdown",
   "id": "29643043",
   "metadata": {},
   "source": [
    "### Assignment 10: pass Statement\n",
    "\n",
    "Write a program that defines an empty function using the pass statement."
   ]
  },
  {
   "cell_type": "code",
   "execution_count": 13,
   "id": "03681f81",
   "metadata": {},
   "outputs": [],
   "source": [
    "def my_function() -> None:\n",
    "    pass"
   ]
  },
  {
   "cell_type": "markdown",
   "id": "a05f420f",
   "metadata": {},
   "source": [
    "### Assignment 11: Combining Loops and Conditionals\n",
    "\n",
    "Write a program that asks the user to input a number and prints all the even numbers from 1 to that number using a for loop."
   ]
  },
  {
   "cell_type": "code",
   "execution_count": 18,
   "id": "3b763d7e",
   "metadata": {},
   "outputs": [
    {
     "name": "stdout",
     "output_type": "stream",
     "text": [
      "2\n",
      "4\n"
     ]
    }
   ],
   "source": [
    "user_nymber = int(input(\"Enter a number: \"))\n",
    "if user_nymber :\n",
    "    for i in range(1,user_nymber+1):\n",
    "        if i % 2 == 0:\n",
    "            print(i)"
   ]
  },
  {
   "cell_type": "markdown",
   "id": "e63aecdb",
   "metadata": {},
   "source": [
    "### Assignment 12: Factorial Calculation\n",
    "\n",
    "Write a program that calculates the factorial of a number input by the user using a while loop."
   ]
  },
  {
   "cell_type": "code",
   "execution_count": 19,
   "id": "75228c90",
   "metadata": {},
   "outputs": [
    {
     "name": "stdout",
     "output_type": "stream",
     "text": [
      "The factorial of 1 is 120\n"
     ]
    }
   ],
   "source": [
    "# Prompt the user for the number\n",
    "number = int(input(\"Enter a number to calculate its factorial: \"))\n",
    "\n",
    "# Initialize the factorial to 1\n",
    "factorial = 1\n",
    "\n",
    "# Loop until the number is 0\n",
    "while number > 0:\n",
    "    # Multiply the factorial by the number\n",
    "    factorial *= number\n",
    "    # Decrement the number\n",
    "    number -= 1\n",
    "\n",
    "# Print the factorial\n",
    "print(\"The factorial of\", number+1, \"is\", factorial)"
   ]
  },
  {
   "cell_type": "markdown",
   "id": "fc96a86e",
   "metadata": {},
   "source": [
    "### Assignment 13: Sum of Digits\n",
    "\n",
    "Write a program that calculates the sum of the digits of a number input by the user using a while loop."
   ]
  },
  {
   "cell_type": "code",
   "execution_count": 21,
   "id": "92e242a8",
   "metadata": {},
   "outputs": [
    {
     "name": "stdout",
     "output_type": "stream",
     "text": [
      "The sum of the digits is: 40\n"
     ]
    }
   ],
   "source": [
    "def calculate_sum_of_digits():\n",
    "    num = int(input(\"Enter a number: \"))\n",
    "    sum_of_digits = 0\n",
    "    while num > 0:\n",
    "        digit = num % 10\n",
    "        sum_of_digits += digit\n",
    "        num //= 10\n",
    "    print(\"The sum of the digits is:\", sum_of_digits)\n",
    "\n",
    "calculate_sum_of_digits()\n"
   ]
  },
  {
   "cell_type": "markdown",
   "id": "cf09126b",
   "metadata": {},
   "source": [
    "### Assignment 14: Prime Number Check\n",
    "\n",
    "Write a program that checks if a number input by the user is a prime number using a for loop."
   ]
  },
  {
   "cell_type": "code",
   "execution_count": 22,
   "id": "36ace8a1",
   "metadata": {},
   "outputs": [
    {
     "name": "stdout",
     "output_type": "stream",
     "text": [
      "The number is not prime.\n"
     ]
    }
   ],
   "source": [
    "def check_prime():\n",
    "    num = int(input(\"Enter a number: \"))\n",
    "    if num < 2:\n",
    "        print(\"The number is not prime.\")\n",
    "    else:\n",
    "        is_prime = True\n",
    "        for i in range(2, int(num**0.5) + 1):\n",
    "            if num % i == 0:\n",
    "                is_prime = False\n",
    "                break\n",
    "        if is_prime:\n",
    "            print(\"The number is prime.\")\n",
    "        else:\n",
    "            print(\"The number is not prime.\")\n",
    "\n",
    "check_prime()"
   ]
  },
  {
   "cell_type": "markdown",
   "id": "c460e3e2",
   "metadata": {},
   "source": [
    "\n",
    "### Assignment 15: Fibonacci Sequence\n",
    "\n",
    "Write a program that prints the first n Fibonacci numbers, where n is input by the user."
   ]
  },
  {
   "cell_type": "code",
   "execution_count": 24,
   "metadata": {},
   "outputs": [
    {
     "name": "stdout",
     "output_type": "stream",
     "text": [
      "The first 5 Fibonacci numbers are: [0, 1, 1, 2, 3]\n"
     ]
    }
   ],
   "source": [
    "def print_fibonacci_numbers():\n",
    "    \"\"\"\n",
    "    This function prompts the user to enter the number of Fibonacci numbers to print\n",
    "    and then prints the first n Fibonacci numbers.\n",
    "    \"\"\"\n",
    "    n = int(input(\"Enter the number of Fibonacci numbers to print: \"))  # Get user input for the number of Fibonacci numbers\n",
    "    if n <= 0:\n",
    "        print(\"Invalid input. Please enter a positive integer.\")\n",
    "    else:\n",
    "        fibonacci_sequence = [0, 1]  # Initialize the list with the first two Fibonacci numbers\n",
    "        for i in range(2, n):\n",
    "            next_number = fibonacci_sequence[i-1] + fibonacci_sequence[i-2]  # Calculate the next Fibonacci number\n",
    "            fibonacci_sequence.append(next_number)  # Append the next Fibonacci number to the list\n",
    "        print(\"The first\", n, \"Fibonacci numbers are:\", fibonacci_sequence)  # Print the first n Fibonacci numbers\n",
    "\n",
    "# Call the function to execute the program\n",
    "print_fibonacci_numbers()"
   ]
  },
  {
   "cell_type": "code",
   "execution_count": null,
   "id": "32d61860",
   "metadata": {},
   "outputs": [],
   "source": []
  }
 ],
 "metadata": {
  "kernelspec": {
   "display_name": "Python 3",
   "language": "python",
   "name": "python3"
  },
  "language_info": {
   "codemirror_mode": {
    "name": "ipython",
    "version": 3
   },
   "file_extension": ".py",
   "mimetype": "text/x-python",
   "name": "python",
   "nbconvert_exporter": "python",
   "pygments_lexer": "ipython3",
   "version": "3.12.2"
  }
 },
 "nbformat": 4,
 "nbformat_minor": 5
}
