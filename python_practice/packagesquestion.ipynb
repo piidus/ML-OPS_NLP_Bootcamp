{
 "cells": [
  {
   "cell_type": "markdown",
   "id": "257ec124",
   "metadata": {},
   "source": [
    "# Module 5: Modules and Packages Assignments\n",
    "## Lesson 5.1: Importing Modules"
   ]
  },
  {
   "cell_type": "markdown",
   "id": "41dad311",
   "metadata": {},
   "source": [
    "\n",
    "### Assignment 1: Importing and Using Modules\n",
    "\n",
    "Import the `math` module and use it to calculate the square root of 25 and the sine of 90 degrees."
   ]
  },
  {
   "cell_type": "code",
   "execution_count": 1,
   "id": "c43ae6d9",
   "metadata": {},
   "outputs": [
    {
     "name": "stdout",
     "output_type": "stream",
     "text": [
      "sqrt(25) = 5.0\n",
      "sin(90) = 0.8939966636005579\n"
     ]
    }
   ],
   "source": [
    "from math import sqrt, sin\n",
    "print('sqrt(25) =', sqrt(25))\n",
    "print('sin(90) =', sin(90))"
   ]
  },
  {
   "cell_type": "markdown",
   "id": "00918b0b",
   "metadata": {},
   "source": [
    "\n",
    "### Assignment 2: Aliasing Modules\n",
    "\n",
    "Import the `datetime` module with an alias and use it to print the current date and time."
   ]
  },
  {
   "cell_type": "code",
   "execution_count": 2,
   "id": "f20b2d1d",
   "metadata": {},
   "outputs": [
    {
     "name": "stdout",
     "output_type": "stream",
     "text": [
      "present time = 2024-07-22 16:44:33.181295\n"
     ]
    }
   ],
   "source": [
    "from datetime import datetime\n",
    "print('present time =', datetime.now())"
   ]
  },
  {
   "cell_type": "markdown",
   "id": "951e2b5a",
   "metadata": {},
   "source": [
    "### Assignment 3: Importing Specific Functions\n",
    "\n",
    "Import the `randint` function from the `random` module and use it to generate a random integer between 1 and 100."
   ]
  },
  {
   "cell_type": "code",
   "execution_count": 3,
   "id": "1bde2487",
   "metadata": {},
   "outputs": [
    {
     "name": "stdout",
     "output_type": "stream",
     "text": [
      "random integer = 58\n"
     ]
    }
   ],
   "source": [
    "from random import randint\n",
    "print('random integer =', randint(1, 100))"
   ]
  },
  {
   "cell_type": "markdown",
   "id": "69a963b8",
   "metadata": {},
   "source": [
    "### Assignment 4: Importing Multiple Functions\n",
    "\n",
    "Import the `sqrt` and `pow` functions from the `math` module and use them to calculate the square root of 16 and 2 raised to the power of 3."
   ]
  },
  {
   "cell_type": "code",
   "execution_count": 4,
   "id": "0559c068",
   "metadata": {},
   "outputs": [
    {
     "name": "stdout",
     "output_type": "stream",
     "text": [
      "sqrt(16) = 4.0\n",
      "pow(2, 3) = 8.0\n"
     ]
    }
   ],
   "source": [
    "from math import  sqrt, pow\n",
    "print('sqrt(16) =', sqrt(16))\n",
    "print('pow(2, 3) =', pow(2, 3))"
   ]
  },
  {
   "cell_type": "markdown",
   "id": "67ec7b69",
   "metadata": {},
   "source": [
    "### Assignment 5: Handling Import Errors\n",
    "\n",
    "Write code that attempts to import a non-existent module and gracefully handles the import error by printing an error message."
   ]
  },
  {
   "cell_type": "code",
   "execution_count": 5,
   "id": "2f47af26",
   "metadata": {},
   "outputs": [
    {
     "name": "stdout",
     "output_type": "stream",
     "text": [
      "No module named 'nonWxistant'\n"
     ]
    }
   ],
   "source": [
    "try:\n",
    "    import nonWxistant\n",
    "except ModuleNotFoundError as e:\n",
    "    print(e)\n",
    "    # raise ModuleNotFoundError('nonWxistant module not found')"
   ]
  },
  {
   "cell_type": "markdown",
   "id": "90b2be62",
   "metadata": {},
   "source": [
    "## Lesson 5.2: Standard Library Overview"
   ]
  },
  {
   "cell_type": "markdown",
   "id": "c773c966",
   "metadata": {},
   "source": [
    "### Assignment 6: Working with the `os` Module\n",
    "\n",
    "Use the `os` module to create a new directory, list the contents of the current directory, and remove the newly created directory."
   ]
  },
  {
   "cell_type": "code",
   "execution_count": 6,
   "id": "4a39e4f1",
   "metadata": {},
   "outputs": [],
   "source": [
    "import os\n",
    "os.makedirs('test', exist_ok=True)"
   ]
  },
  {
   "cell_type": "code",
   "execution_count": 7,
   "id": "08b06d6c",
   "metadata": {},
   "outputs": [],
   "source": [
    "os.removedirs('test')"
   ]
  },
  {
   "cell_type": "markdown",
   "id": "8917adba",
   "metadata": {},
   "source": [
    "### Assignment 7: Working with the `sys` Module\n",
    "Use the `sys` module to print the Python version currently in use and the command-line arguments passed to the script.\n",
    "\n"
   ]
  },
  {
   "cell_type": "code",
   "execution_count": 9,
   "id": "6a5defb3",
   "metadata": {},
   "outputs": [
    {
     "name": "stdout",
     "output_type": "stream",
     "text": [
      "Python version: 3.12.2 (tags/v3.12.2:6abddd9, Feb  6 2024, 21:26:36) [MSC v.1937 64 bit (AMD64)]\n",
      "Command-line arguments: ['e:\\\\code\\\\collection\\\\ML-OPS_NLP_Bootcamp\\\\.venv\\\\Lib\\\\site-packages\\\\ipykernel_launcher.py', '--f=c:\\\\Users\\\\HP\\\\AppData\\\\Roaming\\\\jupyter\\\\runtime\\\\kernel-v2-14812PBiHbmDfb0Bs.json']\n"
     ]
    }
   ],
   "source": [
    "import sys\n",
    "\n",
    "print(\"Python version:\", sys.version)\n",
    "print(\"Command-line arguments:\", sys.argv)"
   ]
  },
  {
   "cell_type": "markdown",
   "id": "2d7c0e2b",
   "metadata": {},
   "source": [
    "### Assignment 8: Working with the `math` Module\n",
    "\n",
    "Use the `math` module to calculate the greatest common divisor (GCD) of two numbers and the factorial of a number."
   ]
  },
  {
   "cell_type": "code",
   "execution_count": 10,
   "id": "baadd4d8",
   "metadata": {},
   "outputs": [
    {
     "name": "stdout",
     "output_type": "stream",
     "text": [
      "6\n",
      "120\n"
     ]
    }
   ],
   "source": [
    "import math\n",
    "\n",
    "print(math.gcd(12, 18))\n",
    "print(math.factorial(5))"
   ]
  },
  {
   "cell_type": "markdown",
   "id": "5819c6c5",
   "metadata": {},
   "source": [
    "### Assignment 9: Working with the `datetime` Module\n",
    "\n",
    "Use the `datetime` module to print the current date, calculate the date 100 days from today, and determine the day of the week for a given date."
   ]
  },
  {
   "cell_type": "code",
   "execution_count": 16,
   "id": "5c1d0bc5",
   "metadata": {},
   "outputs": [
    {
     "name": "stdout",
     "output_type": "stream",
     "text": [
      "present time = 2024-07-22\n",
      "100 days later = 2024-10-30\n",
      "week day= Monday\n"
     ]
    }
   ],
   "source": [
    "from datetime import  datetime, timedelta\n",
    "print('present time =', datetime.now().date())\n",
    "print('100 days later =', datetime.now().date() + timedelta(days=100))\n",
    "print('week day=', datetime.now().today().strftime('%A'))"
   ]
  },
  {
   "cell_type": "markdown",
   "id": "a363dd4d",
   "metadata": {},
   "source": [
    "### Assignment 10: Working with the `random` Module\n",
    "\n",
    "Use the `random` module to generate a list of 5 random numbers between 1 and 50 and shuffle the elements of a list."
   ]
  },
  {
   "cell_type": "code",
   "execution_count": 18,
   "id": "bce078d5",
   "metadata": {},
   "outputs": [
    {
     "name": "stdout",
     "output_type": "stream",
     "text": [
      "[20, 14, 46, 36, 34]\n"
     ]
    }
   ],
   "source": [
    "from random import randint\n",
    "new_list = [randint(1, 50) for _ in range(5)]\n",
    "print(new_list)"
   ]
  },
  {
   "cell_type": "markdown",
   "id": "412c520f",
   "metadata": {},
   "source": [
    "\n",
    "## Lesson 5.3: Creating and Using Packages"
   ]
  },
  {
   "cell_type": "markdown",
   "id": "0efb3a05",
   "metadata": {},
   "source": [
    "### Assignment 11: Creating a Simple Package\n",
    "\n",
    "Create a package named `mypackage` with two modules: `module1` and `module2`. `module1` should contain a function that adds two numbers, and `module2` should contain a function that multiplies two numbers. Write code to use these functions."
   ]
  },
  {
   "cell_type": "code",
   "execution_count": 19,
   "id": "098ad81d",
   "metadata": {},
   "outputs": [
    {
     "name": "stdout",
     "output_type": "stream",
     "text": [
      "3\n",
      "6\n"
     ]
    }
   ],
   "source": [
    "from mypackage import module1, module2\n",
    "\n",
    "print(module1.additor(1, 2))\n",
    "print(module2.multiplicator(2, 3))"
   ]
  },
  {
   "cell_type": "markdown",
   "id": "c923a562",
   "metadata": {},
   "source": [
    "### Assignment 12: Using `__init__.py`\n",
    "\n",
    "Modify the `mypackage` package to include an `__init__.py` file that imports the functions from `module1` and `module2`. Write code to use these \n",
    "functions."
   ]
  },
  {
   "cell_type": "code",
   "execution_count": 20,
   "id": "2e22d5a0",
   "metadata": {},
   "outputs": [
    {
     "name": "stdout",
     "output_type": "stream",
     "text": [
      "3\n",
      "6\n"
     ]
    }
   ],
   "source": [
    "from mypackage import module1, module2\n",
    "\n",
    "print(module1.additor(1, 2))\n",
    "print(module2.multiplicator(2, 3))"
   ]
  },
  {
   "cell_type": "markdown",
   "id": "3db28bb0",
   "metadata": {},
   "source": [
    "\n",
    "### Assignment 13: Importing from a Package\n",
    "\n",
    "Write code to import and use the functions from `mypackage` without explicitly importing `module1` and `module2`."
   ]
  },
  {
   "cell_type": "code",
   "execution_count": 21,
   "id": "1800d971",
   "metadata": {},
   "outputs": [
    {
     "name": "stdout",
     "output_type": "stream",
     "text": [
      "3\n",
      "6\n"
     ]
    }
   ],
   "source": [
    "from mypackage import *\n",
    "\n",
    "print(module1.additor(1, 2))\n",
    "print(module2.multiplicator(2, 3))"
   ]
  },
  {
   "cell_type": "markdown",
   "id": "ab607489",
   "metadata": {},
   "source": [
    "\n",
    "### Assignment 14: Relative Imports\n",
    "\n",
    "Create a subpackage named `subpackage` within `mypackage` and move `module2` into `subpackage`. Modify the import statements in `__init__.py` to use relative imports. Write code to use the functions from both modules.\n"
   ]
  },
  {
   "cell_type": "code",
   "execution_count": 25,
   "id": "07619aaf",
   "metadata": {},
   "outputs": [
    {
     "name": "stdout",
     "output_type": "stream",
     "text": [
      "6\n"
     ]
    }
   ],
   "source": [
    "from mypackage.subpackage import multiplicator\n",
    "\n",
    "print(multiplicator(2, 3))"
   ]
  },
  {
   "cell_type": "markdown",
   "metadata": {},
   "source": [
    "\n",
    "\n",
    "\n",
    "\n",
    "### Assignment 15: Handling Package Import Errors\n",
    "\n",
    "Write code that attempts to import a non-existent function from `mypackage` and gracefully handles the import error by printing an error message."
   ]
  },
  {
   "cell_type": "code",
   "execution_count": 26,
   "id": "0415cd41",
   "metadata": {},
   "outputs": [
    {
     "name": "stdout",
     "output_type": "stream",
     "text": [
      "cannot import name 'multiplicator' from 'mypackage' (e:\\code\\collection\\ML-OPS_NLP_Bootcamp\\python_practice\\mypackage\\__init__.py)\n"
     ]
    }
   ],
   "source": [
    "try :\n",
    "    from mypackage import multiplicator\n",
    "except ImportError as e:\n",
    "    print(e)"
   ]
  },
  {
   "cell_type": "code",
   "execution_count": null,
   "metadata": {},
   "outputs": [],
   "source": []
  }
 ],
 "metadata": {
  "kernelspec": {
   "display_name": "Python 3",
   "language": "python",
   "name": "python3"
  },
  "language_info": {
   "codemirror_mode": {
    "name": "ipython",
    "version": 3
   },
   "file_extension": ".py",
   "mimetype": "text/x-python",
   "name": "python",
   "nbconvert_exporter": "python",
   "pygments_lexer": "ipython3",
   "version": "3.12.2"
  }
 },
 "nbformat": 4,
 "nbformat_minor": 5
}
