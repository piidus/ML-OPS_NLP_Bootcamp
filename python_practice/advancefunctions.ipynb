{
 "cells": [
  {
   "cell_type": "markdown",
   "id": "bcf4e338",
   "metadata": {},
   "source": [
    "# Module 4: Advanced Functions Assignments\n",
    "## Lesson 4.1: Defining Functions"
   ]
  },
  {
   "cell_type": "markdown",
   "id": "a2ffe0f5",
   "metadata": {},
   "source": [
    "### Assignment 1: Fibonacci Sequence with Memoization\n",
    "\n",
    "Define a recursive function to calculate the nth Fibonacci number using memoization. Test the function with different inputs."
   ]
  },
  {
   "cell_type": "code",
   "execution_count": 1,
   "id": "df82b603",
   "metadata": {},
   "outputs": [],
   "source": [
    "from functools import lru_cache\n",
    "\n",
    "@lru_cache(maxsize=128)\n",
    "def fibonacci(n):\n",
    "    if n == 0:\n",
    "        return 0\n",
    "    elif n == 1:\n",
    "        return 1\n",
    "    return fibonacci(n - 1) + fibonacci(n - 2)"
   ]
  },
  {
   "cell_type": "code",
   "execution_count": 2,
   "id": "07515b52",
   "metadata": {},
   "outputs": [
    {
     "name": "stdout",
     "output_type": "stream",
     "text": [
      "2.540001878514886e-05\n",
      "6.0699996538460255e-05\n"
     ]
    }
   ],
   "source": [
    "import timeit\n",
    "print(timeit.timeit('fibonacci(35)', globals=globals(), number=1))\n",
    "\n",
    "print(timeit.timeit('fibonacci(100)', globals=globals(), number=1))"
   ]
  },
  {
   "cell_type": "code",
   "execution_count": 3,
   "id": "308c683c",
   "metadata": {},
   "outputs": [
    {
     "name": "stdout",
     "output_type": "stream",
     "text": [
      "1.800013706088066e-06\n",
      "1.700012944638729e-06\n"
     ]
    }
   ],
   "source": [
    "print(timeit.timeit('fibonacci(35)', globals=globals(), number=1))\n",
    "print(timeit.timeit('fibonacci(100)', globals=globals(), number=1))"
   ]
  },
  {
   "cell_type": "markdown",
   "id": "baaf29ab",
   "metadata": {},
   "source": [
    "\n",
    "### Assignment 2: Function with Nested Default Arguments\n",
    "\n",
    "Define a function that takes two arguments, a and b, where b is a dictionary with a default value of an empty dictionary. The function should add a new key-value pair to the dictionary and return it. Test the function with different inputs.\n"
   ]
  },
  {
   "cell_type": "code",
   "execution_count": 4,
   "id": "45d8dee7",
   "metadata": {},
   "outputs": [
    {
     "name": "stdout",
     "output_type": "stream",
     "text": [
      "{'new_key': 'value1'}\n",
      "{'existing_key': 'existing_value', 'new_key': 'value2'}\n"
     ]
    }
   ],
   "source": [
    "def add_to_dict(a: any, b: dict={})->dict:\n",
    "    '''\n",
    "    Add a key-value pair to a dictionary\n",
    "    '''\n",
    "    b['new_key'] = a\n",
    "    return b\n",
    "\n",
    "# Test the function with different inputs\n",
    "print(add_to_dict('value1')) \n",
    "print(add_to_dict('value2', {'existing_key': 'existing_value'}))  "
   ]
  },
  {
   "cell_type": "markdown",
   "id": "7b134a92",
   "metadata": {},
   "source": [
    "### Assignment 3: Function with Variable Keyword Arguments\n",
    "\n",
    "Define a function that takes a variable number of keyword arguments and returns a dictionary containing only those key-value pairs where the value is an integer. Test the function with different inputs."
   ]
  },
  {
   "cell_type": "code",
   "execution_count": 7,
   "id": "c5f40d93",
   "metadata": {},
   "outputs": [
    {
     "name": "stdout",
     "output_type": "stream",
     "text": [
      "{'123': {'name': 'Alice Smith', 'grade': 10, 'subjects': ['Math', 'Science', 'English', 'History', 'Art']}, '456': {'name': 'Bob Johnson', 'grade': 9, 'subjects': ['Math', 'Science', 'English', 'Social Studies', 'Gym']}, '789': {'name': 'Charlie Williams', 'grade': 11, 'subjects': ['Math', 'Physics', 'Chemistry', 'Literature', 'Foreign Language']}, '010': {'name': 'Diana Brown', 'grade': 8, 'subjects': ['Math', 'Science', 'English', 'History', 'Music']}, '321': {'name': 'Evan Jones', 'grade': 12, 'subjects': ['Calculus', 'Biology', 'Literature', 'Economics', 'Psychology']}}\n"
     ]
    }
   ],
   "source": [
    "students = {\n",
    "  \"123\": {\"name\": \"Alice Smith\", \"grade\": 10, \"subjects\": [\"Math\", \"Science\", \"English\", \"History\", \"Art\"]},\n",
    "  \"456\": {\"name\": \"Bob Johnson\", \"grade\": 9, \"subjects\": [\"Math\", \"Science\", \"English\", \"Social Studies\", \"Gym\"] },\n",
    "  \"789\": { \"name\": \"Charlie Williams\", \"grade\": 11, \"subjects\": [\"Math\", \"Physics\", \"Chemistry\", \"Literature\", \"Foreign Language\"] },\n",
    "  \"010\": { \"name\": \"Diana Brown\", \"grade\": 8, \"subjects\": [\"Math\", \"Science\", \"English\", \"History\", \"Music\"] },\n",
    "  \"321\": { \"name\": \"Evan Jones\", \"grade\": 12, \"subjects\": [\"Calculus\", \"Biology\", \"Literature\", \"Economics\", \"Psychology\"] }\n",
    "}\n",
    "print(students)\n"
   ]
  },
  {
   "cell_type": "code",
   "execution_count": 9,
   "id": "485ca5a3",
   "metadata": {},
   "outputs": [
    {
     "name": "stdout",
     "output_type": "stream",
     "text": [
      "{'123': {'name': 'Alice Smith', 'grade': 10, 'subjects': ['Math', 'Science', 'English', 'History', 'Art']}, '789': {'name': 'Charlie Williams', 'grade': 11, 'subjects': ['Math', 'Physics', 'Chemistry', 'Literature', 'Foreign Language']}, '321': {'name': 'Evan Jones', 'grade': 12, 'subjects': ['Calculus', 'Biology', 'Literature', 'Economics', 'Psychology']}}\n",
      "{'789': {'name': 'Charlie Williams', 'grade': 11, 'subjects': ['Math', 'Physics', 'Chemistry', 'Literature', 'Foreign Language']}, '321': {'name': 'Evan Jones', 'grade': 12, 'subjects': ['Calculus', 'Biology', 'Literature', 'Economics', 'Psychology']}}\n"
     ]
    }
   ],
   "source": [
    "def get_student_by_grade(students: dict, grade: int) -> dict:\n",
    "    '''\n",
    "    Return a dictionary of students with the given grade\n",
    "    '''\n",
    "    return {k: v for k, v in students.items() if v['grade'] >= grade}\n",
    "\n",
    "# Test the function with different inputs\n",
    "print(get_student_by_grade(students, 10))\n",
    "print(get_student_by_grade(students, 11))"
   ]
  },
  {
   "cell_type": "markdown",
   "id": "f6ede72f",
   "metadata": {},
   "source": [
    "### Assignment 4: Function with Callback\n",
    "\n",
    "Define a function that takes another function as a callback and a list of integers. The function should apply the callback to each integer in the list and return a new list with the results. Test with different callback functions."
   ]
  },
  {
   "cell_type": "code",
   "execution_count": 10,
   "id": "11cc249a",
   "metadata": {},
   "outputs": [
    {
     "name": "stdout",
     "output_type": "stream",
     "text": [
      "5\n",
      "-1\n"
     ]
    }
   ],
   "source": [
    "def add_function(a: int, b: int) -> int:\n",
    "    '''\n",
    "    Add two numbers\n",
    "    '''\n",
    "    return a + b\n",
    "def subtract_function(a: int, b: int) -> int:\n",
    "    '''\n",
    "    Subtract two numbers\n",
    "    '''\n",
    "    return a - b\n",
    "def callback_function(callback: callable, a: int, b: int) -> int:\n",
    "    '''\n",
    "    Call a callback function with two numbers\n",
    "    '''\n",
    "    return callback(a, b)\n",
    "\n",
    "# Test the function with different inputs\n",
    "print(callback_function(add_function, 2, 3))\n",
    "print(callback_function(subtract_function, 2, 3))"
   ]
  },
  {
   "cell_type": "markdown",
   "id": "a7e8377c",
   "metadata": {},
   "source": [
    "### Assignment 5: Function that Returns a Function\n",
    "\n",
    "Define a function that returns another function. The returned function should take an integer and return its square. Test the returned function with different inputs."
   ]
  },
  {
   "cell_type": "code",
   "execution_count": 2,
   "id": "2ce79d31",
   "metadata": {},
   "outputs": [
    {
     "name": "stdout",
     "output_type": "stream",
     "text": [
      "This is my function\n",
      "Time taken: 5.005123615264893 seconds\n"
     ]
    }
   ],
   "source": [
    "from typing import Callable\n",
    "import random\n",
    "from time import time, sleep, process_time\n",
    "def time_calc_function(func:callable)->callable:\n",
    "    start = time()\n",
    "    sleep(random.randint(1, 5))\n",
    "    func()\n",
    "    end = time()\n",
    "    print(f\"Time taken: {end - start} seconds\")\n",
    "\n",
    "    return func\n",
    "\n",
    "# Test the function with different inputs\n",
    "def my_function():\n",
    "    print(\"This is my function\")\n",
    "\n",
    "output = time_calc_function(my_function)"
   ]
  },
  {
   "cell_type": "markdown",
   "id": "64f941e6",
   "metadata": {},
   "source": [
    "### Assignment 6: Function with Decorators\n",
    "\n",
    "Define a function that calculates the time taken to execute another function. Apply this decorator to a function that performs a complex calculation. Test the decorated function with different inputs."
   ]
  },
  {
   "cell_type": "code",
   "execution_count": 3,
   "id": "f263a1e1",
   "metadata": {},
   "outputs": [
    {
     "name": "stdout",
     "output_type": "stream",
     "text": [
      "Time taken: 2.00101637840271 seconds\n"
     ]
    }
   ],
   "source": [
    "# test the function with decorator\n",
    "@time_calc_function\n",
    "def dummy_function() -> None:\n",
    "    ''' it Print 100 by a for loop'''\n",
    "    for i in range(100):\n",
    "        if i == 100:\n",
    "            print(i)\n",
    "            break\n",
    "\n",
    "dummy_function()\n",
    "\n",
    "        "
   ]
  },
  {
   "cell_type": "markdown",
   "id": "814017d7",
   "metadata": {},
   "source": [
    "### Assignment 7: Higher-Order Function for Filtering and Mapping\n",
    "\n",
    "Define a higher-order function that takes two functions, a filter function and a map function, along with a list of integers. The higher-order function should first filter the integers using the filter function and then apply the map function to the filtered integers. Test with different filter and map functions."
   ]
  },
  {
   "cell_type": "code",
   "execution_count": 7,
   "id": "5f600327",
   "metadata": {},
   "outputs": [
    {
     "name": "stdout",
     "output_type": "stream",
     "text": [
      "[4, 16, 36, 64, 100]\n"
     ]
    }
   ],
   "source": [
    "def apply_filter_and_map(filter_func, map_func, integer_list):\n",
    "    filtered_integers = filter(filter_func, integer_list)\n",
    "    mapped_integers = map(map_func, filtered_integers)\n",
    "    return list(mapped_integers)\n",
    "\n",
    "# Example filter function\n",
    "def is_even(num):\n",
    "    return num % 2 == 0\n",
    "\n",
    "# Example map function\n",
    "def square(num):\n",
    "    return num * num\n",
    "\n",
    "# Test with different filter and map functions\n",
    "integer_list = [1, 2, 3, 4, 5, 6, 7, 8, 9, 10]\n",
    "filtered_and_mapped_result = apply_filter_and_map(is_even, square, integer_list)\n",
    "print(filtered_and_mapped_result)"
   ]
  },
  {
   "cell_type": "markdown",
   "id": "e5cbf0ad",
   "metadata": {},
   "source": [
    "### Assignment 8: Function Composition\n",
    "\n",
    "Define a function that composes two functions, f and g, such that the result is f(g(x)). Test with different functions f and g."
   ]
  },
  {
   "cell_type": "code",
   "execution_count": 8,
   "id": "e6369f5e",
   "metadata": {},
   "outputs": [
    {
     "name": "stdout",
     "output_type": "stream",
     "text": [
      "36\n"
     ]
    }
   ],
   "source": [
    "def compose(f, g):\n",
    "    def inner(x):\n",
    "        return f(g(x))\n",
    "    return inner\n",
    "\n",
    "# Example functions\n",
    "def square(x):\n",
    "    return x * x\n",
    "\n",
    "def add_one(x):\n",
    "    return x + 1\n",
    "\n",
    "# Test with different functions\n",
    "result = compose(square, add_one)(5)\n",
    "print(result)"
   ]
  },
  {
   "cell_type": "markdown",
   "id": "56adf787",
   "metadata": {},
   "source": [
    "### Assignment 9: Partial Function Application\n",
    "\n",
    "Use the functools.partial function to create a new function that multiplies its input by 2. Test the new function with different inputs.\n"
   ]
  },
  {
   "cell_type": "code",
   "execution_count": 9,
   "id": "90549ea4",
   "metadata": {},
   "outputs": [
    {
     "name": "stdout",
     "output_type": "stream",
     "text": [
      "10\n",
      "20\n",
      "-6\n"
     ]
    }
   ],
   "source": [
    "from functools import partial\n",
    "\n",
    "def multiply_by(factor, x):\n",
    "    return factor * x\n",
    "\n",
    "# Create a new function using functools.partial\n",
    "multiply_by_2 = partial(multiply_by, 2)\n",
    "\n",
    "# Test the new function with different inputs\n",
    "result1 = multiply_by_2(5)\n",
    "result2 = multiply_by_2(10)\n",
    "result3 = multiply_by_2(-3)\n",
    "\n",
    "print(result1)\n",
    "print(result2) \n",
    "print(result3)  "
   ]
  },
  {
   "cell_type": "markdown",
   "id": "d47231f1",
   "metadata": {},
   "source": [
    "### Assignment 10: Function with Error Handling\n",
    "\n",
    "Define a function that takes a list of integers and returns their average. The function should handle any errors that occur (e.g., empty list) and return None in such cases. Test with different inputs."
   ]
  },
  {
   "cell_type": "code",
   "execution_count": 11,
   "id": "b101749e",
   "metadata": {},
   "outputs": [
    {
     "ename": "LookupError",
     "evalue": "List is empty",
     "output_type": "error",
     "traceback": [
      "\u001b[1;31m---------------------------------------------------------------------------\u001b[0m",
      "\u001b[1;31mLookupError\u001b[0m                               Traceback (most recent call last)",
      "Cell \u001b[1;32mIn[11], line 12\u001b[0m\n\u001b[0;32m     10\u001b[0m \u001b[38;5;66;03m# Test the function with different inputs\u001b[39;00m\n\u001b[0;32m     11\u001b[0m list_checker([\u001b[38;5;241m1\u001b[39m, \u001b[38;5;241m2\u001b[39m, \u001b[38;5;241m3\u001b[39m])\n\u001b[1;32m---> 12\u001b[0m \u001b[43mlist_checker\u001b[49m\u001b[43m(\u001b[49m\u001b[43m[\u001b[49m\u001b[43m]\u001b[49m\u001b[43m)\u001b[49m\n",
      "Cell \u001b[1;32mIn[11], line 4\u001b[0m, in \u001b[0;36mlist_checker\u001b[1;34m(num_list)\u001b[0m\n\u001b[0;32m      2\u001b[0m \u001b[38;5;28;01mif\u001b[39;00m \u001b[38;5;28misinstance\u001b[39m(num_list, \u001b[38;5;28mlist\u001b[39m):\n\u001b[0;32m      3\u001b[0m     \u001b[38;5;28;01mif\u001b[39;00m num_list \u001b[38;5;241m==\u001b[39m []:\n\u001b[1;32m----> 4\u001b[0m         \u001b[38;5;28;01mraise\u001b[39;00m \u001b[38;5;167;01mLookupError\u001b[39;00m(\u001b[38;5;124m\"\u001b[39m\u001b[38;5;124mList is empty\u001b[39m\u001b[38;5;124m\"\u001b[39m)\n\u001b[0;32m      5\u001b[0m     \u001b[38;5;28;01melse\u001b[39;00m:\n\u001b[0;32m      6\u001b[0m         \u001b[38;5;28;01mreturn\u001b[39;00m \u001b[38;5;28;01mTrue\u001b[39;00m\n",
      "\u001b[1;31mLookupError\u001b[0m: List is empty"
     ]
    }
   ],
   "source": [
    "def list_checker(num_list)-> bool:\n",
    "    if isinstance(num_list, list):\n",
    "        if num_list == []:\n",
    "            raise LookupError(\"List is empty\")\n",
    "        else:\n",
    "            return True\n",
    "    else:\n",
    "        raise TypeError(\"Input is not a list\")\n",
    "    \n",
    "# Test the function with different inputs\n",
    "list_checker([1, 2, 3])\n",
    "list_checker([])\n"
   ]
  },
  {
   "cell_type": "code",
   "execution_count": 12,
   "metadata": {},
   "outputs": [
    {
     "ename": "TypeError",
     "evalue": "Input is not a list",
     "output_type": "error",
     "traceback": [
      "\u001b[1;31m---------------------------------------------------------------------------\u001b[0m",
      "\u001b[1;31mTypeError\u001b[0m                                 Traceback (most recent call last)",
      "Cell \u001b[1;32mIn[12], line 1\u001b[0m\n\u001b[1;32m----> 1\u001b[0m \u001b[43mlist_checker\u001b[49m\u001b[43m(\u001b[49m\u001b[38;5;241;43m1\u001b[39;49m\u001b[43m)\u001b[49m\n",
      "Cell \u001b[1;32mIn[11], line 8\u001b[0m, in \u001b[0;36mlist_checker\u001b[1;34m(num_list)\u001b[0m\n\u001b[0;32m      6\u001b[0m         \u001b[38;5;28;01mreturn\u001b[39;00m \u001b[38;5;28;01mTrue\u001b[39;00m\n\u001b[0;32m      7\u001b[0m \u001b[38;5;28;01melse\u001b[39;00m:\n\u001b[1;32m----> 8\u001b[0m     \u001b[38;5;28;01mraise\u001b[39;00m \u001b[38;5;167;01mTypeError\u001b[39;00m(\u001b[38;5;124m\"\u001b[39m\u001b[38;5;124mInput is not a list\u001b[39m\u001b[38;5;124m\"\u001b[39m)\n",
      "\u001b[1;31mTypeError\u001b[0m: Input is not a list"
     ]
    }
   ],
   "source": [
    "list_checker(1)"
   ]
  },
  {
   "cell_type": "markdown",
   "id": "9b233d34",
   "metadata": {},
   "source": [
    "### Assignment 11: Function with Generators\n",
    "\n",
    "Define a function that generates an infinite sequence of Fibonacci numbers. Test by printing the first 10 numbers in the sequence."
   ]
  },
  {
   "cell_type": "code",
   "execution_count": 15,
   "id": "f08ea2e1",
   "metadata": {},
   "outputs": [
    {
     "name": "stdout",
     "output_type": "stream",
     "text": [
      "0\n",
      "1\n",
      "1\n",
      "2\n",
      "3\n",
      "5\n",
      "8\n",
      "13\n",
      "21\n",
      "34\n"
     ]
    }
   ],
   "source": [
    "def generate_fibonacci_sequence():\n",
    "    a, b = 0, 1\n",
    "    while True:\n",
    "        yield a\n",
    "        a, b = b, a + b\n",
    "\n",
    "# Test by printing the first 10 numbers in the sequence\n",
    "sequence = generate_fibonacci_sequence()\n",
    "for _ in range(10):\n",
    "    print(next(sequence))"
   ]
  },
  {
   "cell_type": "markdown",
   "id": "c5f67f25",
   "metadata": {},
   "source": [
    "### Assignment 12: Currying\n",
    "\n",
    "Define a curried function that takes three argumdef curried_product(x):\n",
    "    "
   ]
  },
  {
   "cell_type": "code",
   "execution_count": 14,
   "id": "282b299d",
   "metadata": {},
   "outputs": [
    {
     "name": "stdout",
     "output_type": "stream",
     "text": [
      "24\n"
     ]
    }
   ],
   "source": [
    "def curried_product(x):\n",
    "    def step1(y):\n",
    "        def step2(z):\n",
    "            return x * y * z\n",
    "        return step2\n",
    "    return step1\n",
    "\n",
    "# Test the curried function by providing arguments one at a time\n",
    "result = curried_product(2)(3)(4)\n",
    "print(result)  # Output: 24"
   ]
  },
  {
   "cell_type": "markdown",
   "id": "81ce5750",
   "metadata": {},
   "source": [
    "### Assignment 13: Function with Context Manager\n",
    "\n",
    "Define a function that uses a context manager to write a list of integers to a file. The function should handle any errors that occur during file operations. Test with different lists."
   ]
  },
  {
   "cell_type": "code",
   "execution_count": 16,
   "id": "457e6d05",
   "metadata": {},
   "outputs": [],
   "source": [
    "def write_integers_to_file(integers, file_path):\n",
    "    try:\n",
    "        with open(file_path, 'w') as file:\n",
    "            for num in integers:\n",
    "                file.write(str(num) + '\\n')\n",
    "    except Exception as e:\n",
    "        print(f\"An error occurred: {e}\")\n",
    "\n",
    "# Test with different lists of integers\n",
    "integers_list1 = [1, 2, 3, 4, 5]\n",
    "integers_list2 = [10, 20, 30, 40, 50]\n",
    "\n",
    "write_integers_to_file(integers_list1, 'integers_list1.txt')\n",
    "write_integers_to_file(integers_list2, 'integers_list2.txt')"
   ]
  },
  {
   "cell_type": "code",
   "execution_count": 17,
   "id": "2b91fdd7",
   "metadata": {},
   "outputs": [],
   "source": [
    "import os\n",
    "os.remove('integers_list1.txt')\n",
    "os.remove('integers_list2.txt')"
   ]
  },
  {
   "cell_type": "markdown",
   "id": "4529c5d7",
   "metadata": {},
   "source": [
    "### Assignment 14: Function with Multiple Return Types\n",
    "\n",
    "Define a function that takes a list of mixed data types (integers, strings, and floats) and returns three lists: one containing all the integers, one containing all the strings, and one containing all the floats. Test with different inputs."
   ]
  },
  {
   "cell_type": "code",
   "execution_count": null,
   "id": "7ac263ee",
   "metadata": {},
   "outputs": [],
   "source": [
    "def categorize_data(data_list):\n",
    "    int_list = []\n",
    "    str_list = []\n",
    "    float_list = []\n",
    "\n",
    "    for item in data_list:\n",
    "        if isinstance(item, int):\n",
    "            int_list.append(item)\n",
    "        elif isinstance(item, str):\n",
    "            str_list.append(item)\n",
    "        elif isinstance(item, float):\n",
    "            float_list.append(item)\n",
    "\n",
    "    return int_list, str_list, float_list\n",
    "\n",
    "# Test the function\n",
    "mixed_data = [1, 'hello', 3.14, 'world', 5, 6.5]\n",
    "integers, strings, floats = categorize_data(mixed_data)\n",
    "\n",
    "print(\"Integers:\", integers)\n",
    "print(\"Strings:\", strings)\n",
    "print(\"Floats:\", floats)"
   ]
  },
  {
   "cell_type": "markdown",
   "metadata": {},
   "source": [
    "### Assignment 15: Function with State\n",
    "\n",
    "Define a function that maintains state between calls using a mutable default argument. The function should keep track of how many times it has been called. Test by calling the function multiple times."
   ]
  },
  {
   "cell_type": "code",
   "execution_count": 18,
   "metadata": {},
   "outputs": [
    {
     "name": "stdout",
     "output_type": "stream",
     "text": [
      "1\n",
      "2\n",
      "3\n"
     ]
    }
   ],
   "source": [
    "def count_calls(state=[0]):\n",
    "    state[0] += 1\n",
    "    return state[0]\n",
    "\n",
    "# Test the function\n",
    "print(count_calls())  \n",
    "print(count_calls())  \n",
    "print(count_calls()) "
   ]
  },
  {
   "cell_type": "code",
   "execution_count": null,
   "id": "fb7905ea",
   "metadata": {},
   "outputs": [],
   "source": []
  }
 ],
 "metadata": {
  "kernelspec": {
   "display_name": "Python 3",
   "language": "python",
   "name": "python3"
  },
  "language_info": {
   "codemirror_mode": {
    "name": "ipython",
    "version": 3
   },
   "file_extension": ".py",
   "mimetype": "text/x-python",
   "name": "python",
   "nbconvert_exporter": "python",
   "pygments_lexer": "ipython3",
   "version": "3.12.2"
  }
 },
 "nbformat": 4,
 "nbformat_minor": 5
}
