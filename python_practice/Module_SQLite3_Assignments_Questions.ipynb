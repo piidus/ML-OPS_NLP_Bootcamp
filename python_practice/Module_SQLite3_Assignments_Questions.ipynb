{
 "cells": [
  {
   "cell_type": "markdown",
   "id": "5ab4a3b7",
   "metadata": {},
   "source": [
    "# Module: SQLite3 Assignments\n",
    "## Lesson: SQLite3"
   ]
  },
  {
   "cell_type": "markdown",
   "id": "490f9b41",
   "metadata": {},
   "source": [
    "\n",
    "### Assignment 1: Creating and Connecting to a Database\n",
    "\n",
    "1. Write a Python function to create a new SQLite3 database named `test.db`."
   ]
  },
  {
   "cell_type": "code",
   "execution_count": 42,
   "id": "41c0e202",
   "metadata": {},
   "outputs": [
    {
     "name": "stdout",
     "output_type": "stream",
     "text": [
      "Database created and successfully connected.\n"
     ]
    }
   ],
   "source": [
    "import sqlite3\n",
    "\n",
    "def create_database():\n",
    "    # create sqlite database\n",
    "    conn = sqlite3.connect('../instances/test.db')\n",
    "    conn.close()\n",
    "    print(\"Database created and successfully connected.\")\n",
    "\n",
    "# Test the function\n",
    "create_database()"
   ]
  },
  {
   "cell_type": "markdown",
   "id": "73b11cc6",
   "metadata": {},
   "source": [
    "\n",
    "2. Write a Python function to create a table named `employees` with columns `id` (integer), `name` (text), `age` (integer), and `department` (text) in the `test.db` database."
   ]
  },
  {
   "cell_type": "code",
   "execution_count": 43,
   "id": "4bc5a247",
   "metadata": {},
   "outputs": [],
   "source": [
    "import sqlite3\n",
    "# Function of total connection\n",
    "def total_connection(quaries, data:list = None):\n",
    "    '''Function of total connection'''\n",
    "    try:\n",
    "        conn = sqlite3.connect('../instances/test.db')\n",
    "        cur = conn.cursor()\n",
    "        if data:\n",
    "            cur.executemany(quaries, data)\n",
    "            conn.commit()\n",
    "        else:\n",
    "            cur.execute(quaries)\n",
    "            conn.commit()\n",
    "    except Exception as e:\n",
    "        print(e)\n",
    "        conn.rollback()\n",
    "    else:\n",
    "        return data\n",
    "    finally:\n",
    "        conn.close()"
   ]
  },
  {
   "cell_type": "code",
   "execution_count": 44,
   "id": "174fe7f5",
   "metadata": {},
   "outputs": [
    {
     "name": "stdout",
     "output_type": "stream",
     "text": [
      "Table created successfully.\n"
     ]
    }
   ],
   "source": [
    "# Create table\n",
    "quaries = '''CREATE TABLE IF NOT EXISTS employees\n",
    "                (id INTEGER PRIMARY KEY AUTOINCREMENT, name TEXT, age INTEGER, department TEXT)'''\n",
    "\n",
    "total_connection(quaries)\n",
    "print(\"Table created successfully.\")\n",
    "\n"
   ]
  },
  {
   "cell_type": "markdown",
   "id": "d444db46",
   "metadata": {},
   "source": [
    "\n",
    "### Assignment 2: Inserting Data\n",
    "\n",
    "1. Write a Python function to insert a new employee into the `employees` table."
   ]
  },
  {
   "cell_type": "code",
   "execution_count": 45,
   "id": "53f5ba0e",
   "metadata": {},
   "outputs": [],
   "source": [
    "def insert_data():\n",
    "    '''Function of insert data'''\n",
    "    try:\n",
    "        total_connection(\"INSERT INTO employees (name, age, department) VALUES ( 'Sudip', 25, 'IT')\")\n",
    "    except Exception as e:\n",
    "        print(e)\n",
    "\n",
    "insert_data()"
   ]
  },
  {
   "cell_type": "markdown",
   "id": "a972f169",
   "metadata": {},
   "source": [
    "\n",
    "2. Insert at least 5 different employees into the `employees` table."
   ]
  },
  {
   "cell_type": "code",
   "execution_count": 46,
   "id": "f3efd69a",
   "metadata": {},
   "outputs": [
    {
     "data": {
      "text/plain": [
       "[('Jack', 25, 'HR'), ('Jikk', 25, 'IT'), ('Fake', 25, 'IT')]"
      ]
     },
     "execution_count": 46,
     "metadata": {},
     "output_type": "execute_result"
    }
   ],
   "source": [
    "# insert many data\n",
    "\n",
    "all_data = [( 'Jack', 25, 'HR'), ( 'Jikk', 25, 'IT'), ( 'Fake', 25, 'IT')]\n",
    "quaries = '''INSERT INTO employees (name, age, department) VALUES ( ?, ?, ?)'''\n",
    "\n",
    "total_connection(quaries, all_data)"
   ]
  },
  {
   "cell_type": "markdown",
   "id": "cf57460f",
   "metadata": {},
   "source": [
    "\n",
    "\n",
    "\n",
    "### Assignment 3: Querying Data\n",
    "\n",
    "1. Write a Python function to fetch and display all records from the `employees` table."
   ]
  },
  {
   "cell_type": "code",
   "execution_count": 47,
   "id": "b8a1ba9e",
   "metadata": {},
   "outputs": [
    {
     "name": "stdout",
     "output_type": "stream",
     "text": [
      "(1, 'Sudip', 25, 'IT')\n",
      "(2, 'Jack', 25, 'HR')\n",
      "(3, 'Jikk', 25, 'IT')\n",
      "(4, 'Fake', 25, 'IT')\n"
     ]
    }
   ],
   "source": [
    "# featch all data\n",
    "\n",
    "\n",
    "def featch_data(quaries):\n",
    "    try:\n",
    "        conn = sqlite3.connect('../instances/test.db')\n",
    "        cur = conn.cursor()\n",
    "        cur.execute(quaries)\n",
    "        data = cur.fetchall()\n",
    "        conn.commit()\n",
    "    except Exception as e:\n",
    "        print(e)\n",
    "        conn.rollback()\n",
    "    else:\n",
    "        return data\n",
    "    finally:\n",
    "        conn.close()\n",
    "\n",
    "quaries = '''SELECT * FROM employees'''\n",
    "rows = featch_data(quaries)\n",
    "\n",
    "for row in rows:\n",
    "    print(row)"
   ]
  },
  {
   "cell_type": "markdown",
   "id": "6c7c016f",
   "metadata": {},
   "source": [
    "\n",
    "2. Write a Python function to fetch and display all employees from a specific department."
   ]
  },
  {
   "cell_type": "code",
   "execution_count": 48,
   "id": "6a980d2b",
   "metadata": {},
   "outputs": [
    {
     "name": "stdout",
     "output_type": "stream",
     "text": [
      "(1, 'Sudip', 25, 'IT')\n",
      "(3, 'Jikk', 25, 'IT')\n",
      "(4, 'Fake', 25, 'IT')\n"
     ]
    }
   ],
   "source": [
    "# select specific data\n",
    "def featch_specific_data(quaries, data):\n",
    "    try:\n",
    "        conn = sqlite3.connect('../instances/test.db')\n",
    "        cur = conn.cursor()\n",
    "        cur.execute(quaries, data)\n",
    "        data = cur.fetchall()\n",
    "        conn.commit()\n",
    "    except Exception as e:\n",
    "        print(e)\n",
    "        conn.rollback()\n",
    "    else:\n",
    "        return data\n",
    "    finally:\n",
    "        conn.close()\n",
    "quaries = '''SELECT * FROM employees WHERE department =  (?)'''\n",
    "\n",
    "data = ('IT',)\n",
    "rows = featch_specific_data(quaries, data)\n",
    "\n",
    "for row in rows:\n",
    "    print(row)"
   ]
  },
  {
   "cell_type": "markdown",
   "id": "23416a4d",
   "metadata": {},
   "source": [
    "\n",
    "### Assignment 4: Updating Data\n",
    "\n",
    "1. Write a Python function to update the department of an employee based on their `id`."
   ]
  },
  {
   "cell_type": "code",
   "execution_count": 49,
   "id": "c84ffe67",
   "metadata": {},
   "outputs": [
    {
     "name": "stdout",
     "output_type": "stream",
     "text": [
      "Employee department updated successfully.\n"
     ]
    }
   ],
   "source": [
    "def update_employee_department(employee_id, new_department):\n",
    "    conn = sqlite3.connect('../instances/test.db')\n",
    "    cursor = conn.cursor()\n",
    "    cursor.execute('''\n",
    "        UPDATE employees\n",
    "        SET department = ?\n",
    "        WHERE id = ?\n",
    "    ''', (new_department, employee_id))\n",
    "    conn.commit()\n",
    "    conn.close()\n",
    "    print(\"Employee department updated successfully.\")\n",
    "\n",
    "# Test the function\n",
    "update_employee_department(1, 'Data Science')"
   ]
  },
  {
   "cell_type": "markdown",
   "id": "bafd176e",
   "metadata": {},
   "source": [
    "\n",
    "\n",
    "2. Update the department of at least 2 employees and display the updated records."
   ]
  },
  {
   "cell_type": "code",
   "execution_count": 51,
   "id": "9c01bd7e",
   "metadata": {},
   "outputs": [
    {
     "name": "stdout",
     "output_type": "stream",
     "text": [
      "Employee department updated successfully.\n",
      "Employee department updated successfully.\n"
     ]
    }
   ],
   "source": [
    "# Update the department of 2 employees\n",
    "update_employee_department(2, 'Research')\n",
    "update_employee_department(3, 'Customer Support')\n"
   ]
  },
  {
   "cell_type": "code",
   "execution_count": 52,
   "id": "3138312d",
   "metadata": {},
   "outputs": [
    {
     "name": "stdout",
     "output_type": "stream",
     "text": [
      "(1, 'Sudip', 25, 'Data Science')\n",
      "(2, 'Jack', 25, 'Research')\n",
      "(3, 'Jikk', 25, 'Customer Support')\n",
      "(4, 'Fake', 25, 'IT')\n"
     ]
    }
   ],
   "source": [
    "quaries = '''SELECT * FROM employees'''\n",
    "rows = featch_data(quaries)\n",
    "\n",
    "for row in rows:\n",
    "    print(row)"
   ]
  },
  {
   "cell_type": "markdown",
   "id": "3e9ef3b3",
   "metadata": {},
   "source": [
    "\n",
    "### Assignment 5: Deleting Data\n",
    "\n",
    "1. Write a Python function to delete an employee from the `employees` table based on their `id`."
   ]
  },
  {
   "cell_type": "code",
   "execution_count": 53,
   "id": "bef19e36",
   "metadata": {},
   "outputs": [
    {
     "name": "stdout",
     "output_type": "stream",
     "text": [
      "Employee deleted successfully.\n",
      "(2, 'Jack', 25, 'Research')\n",
      "(3, 'Jikk', 25, 'Customer Support')\n",
      "(4, 'Fake', 25, 'IT')\n"
     ]
    }
   ],
   "source": [
    "def delete_employee(employee_id):\n",
    "    conn = sqlite3.connect('../instances/test.db')\n",
    "    cursor = conn.cursor()\n",
    "    cursor.execute('''\n",
    "        DELETE FROM employees\n",
    "        WHERE id = ?\n",
    "    ''', (employee_id,))\n",
    "    conn.commit()\n",
    "    conn.close()\n",
    "    print(\"Employee deleted successfully.\")\n",
    "\n",
    "# Test the function\n",
    "delete_employee(1)\n",
    "quaries = '''SELECT * FROM employees'''\n",
    "rows = featch_data(quaries)\n",
    "\n",
    "for row in rows:\n",
    "    print(row)"
   ]
  },
  {
   "cell_type": "markdown",
   "id": "fb706b60",
   "metadata": {},
   "source": [
    "\n",
    "\n",
    "2. Delete at least 1 employee and display the remaining records."
   ]
  },
  {
   "cell_type": "code",
   "execution_count": 54,
   "id": "bc6d6584",
   "metadata": {},
   "outputs": [
    {
     "name": "stdout",
     "output_type": "stream",
     "text": [
      "Employee deleted successfully.\n",
      "(2, 'Jack', 25, 'Research')\n",
      "(3, 'Jikk', 25, 'Customer Support')\n"
     ]
    }
   ],
   "source": [
    "delete_employee(employee_id=4)\n",
    "quaries = '''SELECT * FROM employees'''\n",
    "rows = featch_data(quaries)\n",
    "\n",
    "for row in rows:\n",
    "    print(row)"
   ]
  },
  {
   "cell_type": "markdown",
   "id": "4b50abfe",
   "metadata": {},
   "source": [
    "\n",
    "\n",
    "### Assignment 6: Advanced Queries\n",
    "\n",
    "1. Write a Python function to fetch and display employees older than a certain age."
   ]
  },
  {
   "cell_type": "code",
   "execution_count": 57,
   "id": "b6a29977",
   "metadata": {},
   "outputs": [
    {
     "name": "stdout",
     "output_type": "stream",
     "text": [
      "No employees found.\n",
      "(2, 'Jack', 25, 'Research')\n",
      "(3, 'Jikk', 25, 'Customer Support')\n"
     ]
    }
   ],
   "source": [
    "def fetch_employees_older_than(age):\n",
    "    conn = sqlite3.connect('../instances/test.db')\n",
    "    cursor = conn.cursor()\n",
    "    cursor.execute('SELECT * FROM employees WHERE age > ?', (age,))\n",
    "    records = cursor.fetchall()\n",
    "    conn.close()\n",
    "    if records:\n",
    "        for record in records:\n",
    "            print(record)\n",
    "    else:\n",
    "        print(\"No employees found.\")\n",
    "\n",
    "# Test the function\n",
    "fetch_employees_older_than(25)\n",
    "fetch_employees_older_than(24)"
   ]
  },
  {
   "cell_type": "markdown",
   "id": "9a6e5f5a",
   "metadata": {},
   "source": [
    "\n",
    "2. Write a Python function to fetch and display employees whose names start with a specific letter."
   ]
  },
  {
   "cell_type": "code",
   "execution_count": 61,
   "id": "4b8a350e",
   "metadata": {},
   "outputs": [
    {
     "name": "stdout",
     "output_type": "stream",
     "text": [
      "(2, 'Jack', 25, 'Research')\n",
      "(3, 'Jikk', 25, 'Customer Support')\n"
     ]
    }
   ],
   "source": [
    "def fetch_employees_name_starts_with(letter):\n",
    "    conn = sqlite3.connect('../instances/test.db')\n",
    "    cursor = conn.cursor()\n",
    "    cursor.execute('SELECT * FROM employees WHERE name LIKE ?', (letter + '%',))\n",
    "    records = cursor.fetchall()\n",
    "    conn.close()\n",
    "    for record in records:\n",
    "        print(record)\n",
    "\n",
    "# Test the function\n",
    "fetch_employees_name_starts_with('J')"
   ]
  },
  {
   "cell_type": "markdown",
   "id": "b77003bd",
   "metadata": {},
   "source": [
    "\n",
    "### Assignment 7: Handling Transactions\n",
    "\n",
    "1. Write a Python function to insert multiple employees into the `employees` table in a single transaction. Ensure that if any insertion fails, none of the insertions are committed."
   ]
  },
  {
   "cell_type": "code",
   "execution_count": 64,
   "id": "14772d44",
   "metadata": {},
   "outputs": [],
   "source": [
    "import sqlite3\n",
    "# Function of Handling total transaction\n",
    "def record_transactions(quaries, data:list = None):\n",
    "    '''Function of total connection'''\n",
    "    try:\n",
    "        conn = sqlite3.connect('../instances/test.db')\n",
    "        cur = conn.cursor()\n",
    "        if data:\n",
    "            cur.executemany(quaries, data)\n",
    "            \n",
    "        else:\n",
    "            cur.execute(quaries)\n",
    "            \n",
    "    except Exception as e:\n",
    "        print(e)\n",
    "        conn.rollback()\n",
    "    else:\n",
    "        conn.commit()\n",
    "        return data\n",
    "    finally:\n",
    "        conn.close()"
   ]
  },
  {
   "cell_type": "code",
   "execution_count": 67,
   "id": "9590d2c5",
   "metadata": {},
   "outputs": [
    {
     "name": "stdout",
     "output_type": "stream",
     "text": [
      "UNIQUE constraint failed: employees.id\n"
     ]
    }
   ],
   "source": [
    "# Test the function with valid and invalid data\n",
    "employees = [\n",
    "    (6, 'Frank', 40, 'Finance'),\n",
    "    (7, 'Grace', 29, 'Engineering'),\n",
    "    (8, 'Hannah', 35, 'Marketing'),\n",
    "    (9, 'Ivan', 38, 'Sales'),\n",
    "    (6, 'Jack', 45, 'HR')  # Duplicate ID to cause an error\n",
    "]\n",
    "quaries = '''INSERT INTO employees (id, name, age, department) VALUES ( ?, ?, ?, ?)'''\n",
    "record_transactions(quaries=quaries, data=employees)"
   ]
  },
  {
   "cell_type": "markdown",
   "id": "6e7da016",
   "metadata": {},
   "source": [
    "2. Write a Python function to update the age of multiple employees in a single transaction. Ensure that if any update fails, none of the updates are committed."
   ]
  },
  {
   "cell_type": "code",
   "execution_count": 73,
   "id": "9143ccf9",
   "metadata": {},
   "outputs": [
    {
     "name": "stdout",
     "output_type": "stream",
     "text": [
      "Invalid IDs: [1, 4, 5]\n",
      "Error occurred, transaction rolled back.\n",
      "Invalid IDs\n"
     ]
    }
   ],
   "source": [
    "import sqlite3\n",
    "\n",
    "def update_multiple_employees_ages(updates):\n",
    "    conn = sqlite3.connect('../instances/test.db')\n",
    "    cursor = conn.cursor()\n",
    "\n",
    "    valid_updates = []\n",
    "    invalid_ids = []\n",
    "\n",
    "    try:\n",
    "        # Check if IDs exist\n",
    "        for age, id in updates:\n",
    "            cursor.execute(\"SELECT COUNT(*) FROM employees WHERE id = ?\", (id,))\n",
    "            count = cursor.fetchone()[0]\n",
    "            if count > 0:\n",
    "                valid_updates.append((age, id))\n",
    "            else:\n",
    "                invalid_ids.append(id)\n",
    "\n",
    "        # Update only valid records\n",
    "        if invalid_ids:\n",
    "            print(f\"Invalid IDs: {invalid_ids}\")\n",
    "            raise ValueError(\"Invalid IDs\")\n",
    "        else:\n",
    "            cursor.executemany('''\n",
    "                UPDATE employees\n",
    "                SET age = ?\n",
    "                WHERE id = ?\n",
    "            ''', valid_updates)\n",
    "\n",
    "    except Exception as e:\n",
    "        conn.rollback()\n",
    "        print(\"Error occurred, transaction rolled back.\")\n",
    "        print(e)\n",
    "    else:\n",
    "        conn.commit()\n",
    "        print(\"Transaction committed.\")\n",
    "        print(f\"Updated {len(valid_updates)} records.\")\n",
    "        print(f\"Invalid IDs: {invalid_ids}\")\n",
    "    finally:\n",
    "        conn.close()\n",
    "\n",
    "# Test the function with valid and invalid data\n",
    "updates = [\n",
    "    (32, 1),\n",
    "    (50, 2),\n",
    "    (55, 3),\n",
    "    (41, 4),  # Non-existing ID to cause an error\n",
    "    (23, 5)\n",
    "]\n",
    "update_multiple_employees_ages(updates)\n"
   ]
  },
  {
   "cell_type": "markdown",
   "id": "bff309c0",
   "metadata": {},
   "source": [
    "\n",
    "\n",
    "\n",
    "\n",
    "### Assignment 8: Creating Relationships\n",
    "\n",
    "1. Create a new table named `departments` with columns `id` (integer) and `name` (text)."
   ]
  },
  {
   "cell_type": "code",
   "execution_count": 77,
   "id": "8a7f2d42",
   "metadata": {},
   "outputs": [
    {
     "name": "stdout",
     "output_type": "stream",
     "text": [
      "Table departments created successfully.\n"
     ]
    }
   ],
   "source": [
    "def crate_table(table_name, columns):\n",
    "    conn = sqlite3.connect('../instances/test.db')\n",
    "    cursor = conn.cursor()\n",
    "    cursor.execute(f'''CREATE TABLE IF NOT EXISTS {table_name} ({columns})''')\n",
    "    conn.commit()\n",
    "    conn.close()\n",
    "    print(f\"Table {table_name} created successfully.\")\n",
    "\n",
    "# Test the function\n",
    "table_name = 'departments'\n",
    "columns = 'id INTEGER PRIMARY KEY, name TEXT'\n",
    "crate_table(table_name, columns)"
   ]
  },
  {
   "cell_type": "markdown",
   "id": "aa0b5f01",
   "metadata": {},
   "source": [
    "\n",
    "2. Modify the `employees` table to include a foreign key referencing the `id` column in the `departments` table."
   ]
  },
  {
   "cell_type": "code",
   "execution_count": 86,
   "id": "f9d81baa",
   "metadata": {},
   "outputs": [
    {
     "name": "stdout",
     "output_type": "stream",
     "text": [
      "Table 'employees' modified successfully.\n"
     ]
    }
   ],
   "source": [
    "import sqlite3\n",
    "\n",
    "def add_department_foreign_key():\n",
    "    conn = sqlite3.connect('../instances/test.db')\n",
    "    cursor = conn.cursor()\n",
    "\n",
    "    script = '''\n",
    "        PRAGMA foreign_keys=off;\n",
    "        BEGIN TRANSACTION;\n",
    "        ALTER TABLE employees RENAME TO old_employees;\n",
    "        CREATE TABLE employees (\n",
    "            id INTEGER PRIMARY KEY,\n",
    "            name TEXT NOT NULL,\n",
    "            age INTEGER,\n",
    "            department TEXT,\n",
    "            department_id INTEGER,\n",
    "            FOREIGN KEY(department_id) REFERENCES departments(id)\n",
    "        );\n",
    "        INSERT INTO employees (id, name, age, department)\n",
    "        SELECT id, name, age, department FROM old_employees;\n",
    "        DROP TABLE old_employees;\n",
    "        COMMIT;\n",
    "        PRAGMA foreign_keys=on;\n",
    "    '''\n",
    "\n",
    "    try:\n",
    "        cursor.executescript(script)\n",
    "        conn.commit()\n",
    "        print(\"Table 'employees' modified successfully.\")\n",
    "    except Exception as e:\n",
    "        conn.rollback()\n",
    "        print(\"Error occurred, transaction rolled back.\")\n",
    "        print(e)\n",
    "    finally:\n",
    "        conn.close()\n",
    "\n",
    "# Test the function\n",
    "add_department_foreign_key()\n"
   ]
  },
  {
   "cell_type": "markdown",
   "id": "ab3f196e",
   "metadata": {},
   "source": [
    "\n",
    "3. Write a Python function to insert data into both the `departments` and `employees` tables, ensuring referential integrity."
   ]
  },
  {
   "cell_type": "code",
   "execution_count": 87,
   "id": "d7734a31",
   "metadata": {},
   "outputs": [
    {
     "name": "stdout",
     "output_type": "stream",
     "text": [
      "Department and employee inserted successfully.\n"
     ]
    }
   ],
   "source": [
    "def insert_department_and_employee(department_id, department_name, employee_id, name, age, department):\n",
    "    conn = sqlite3.connect('../instances/test.db')\n",
    "    cursor = conn.cursor()\n",
    "    try:\n",
    "        cursor.execute('''\n",
    "            INSERT INTO departments (id, name)\n",
    "            VALUES (?, ?)\n",
    "        ''', (department_id, department_name))\n",
    "        cursor.execute('''\n",
    "            INSERT INTO employees (id, name, age, department, department_id)\n",
    "            VALUES (?, ?, ?, ?, ?)\n",
    "        ''', (employee_id, name, age, department, department_id))\n",
    "        conn.commit()\n",
    "        print(\"Department and employee inserted successfully.\")\n",
    "    except Exception as e:\n",
    "        conn.rollback()\n",
    "        print(\"Error occurred, transaction rolled back.\")\n",
    "        print(e)\n",
    "    finally:\n",
    "        conn.close()\n",
    "\n",
    "# Test the function\n",
    "insert_department_and_employee(1, 'Finance', 10, 'Zara', 28, 'Finance')"
   ]
  },
  {
   "cell_type": "markdown",
   "id": "5335cb97",
   "metadata": {},
   "source": [
    "\n",
    "### Assignment 9: Indexing and Optimization\n",
    "\n",
    "1. Create an index on the `name` column of the `employees` table."
   ]
  },
  {
   "cell_type": "code",
   "execution_count": 89,
   "id": "984a151f",
   "metadata": {},
   "outputs": [
    {
     "name": "stdout",
     "output_type": "stream",
     "text": [
      "Index on 'name' column created successfully.\n"
     ]
    }
   ],
   "source": [
    "def create_index_on_name():\n",
    "    conn = sqlite3.connect('../instances/test.db')\n",
    "    cursor = conn.cursor()\n",
    "    cursor.execute('CREATE INDEX idx_name ON employees(name)')\n",
    "    conn.commit()\n",
    "    conn.close()\n",
    "    print(\"Index on 'name' column created successfully.\")\n",
    "\n",
    "# Test the function\n",
    "create_index_on_name()"
   ]
  },
  {
   "cell_type": "markdown",
   "id": "37cedbba",
   "metadata": {},
   "source": [
    "\n",
    "\n",
    "2. Write a Python function to fetch and display all employees whose names start with a specific letter. Compare the performance with and without the index."
   ]
  },
  {
   "cell_type": "code",
   "execution_count": 91,
   "id": "c176d495",
   "metadata": {},
   "outputs": [
    {
     "name": "stdout",
     "output_type": "stream",
     "text": [
      "Time taken: 0.0009970664978027344 seconds\n",
      "(2, 'Jack', 50, 'Research', None)\n",
      "(3, 'Jikk', 55, 'Customer Support', None)\n"
     ]
    }
   ],
   "source": [
    "import time\n",
    "\n",
    "def fetch_employees_name_starts_with_performance(letter):\n",
    "    conn = sqlite3.connect('../instances/test.db')\n",
    "    cursor = conn.cursor()\n",
    "    start_time = time.time()\n",
    "    cursor.execute('SELECT * FROM employees WHERE name LIKE ?', (letter + '%',))\n",
    "    records = cursor.fetchall()\n",
    "    end_time = time.time()\n",
    "    conn.close()\n",
    "    print(\"Time taken: {} seconds\".format(end_time - start_time))\n",
    "    for record in records:\n",
    "        print(record)\n",
    "\n",
    "# Test the function with the index\n",
    "fetch_employees_name_starts_with_performance('J')"
   ]
  },
  {
   "cell_type": "markdown",
   "id": "917e62c5",
   "metadata": {},
   "source": [
    "\n",
    "\n",
    "### Assignment 10: Backing Up and Restoring Data\n",
    "\n",
    "1. Write a Python function to back up the `test.db` database to a file named `backup.db`."
   ]
  },
  {
   "cell_type": "code",
   "execution_count": 92,
   "id": "493b498d",
   "metadata": {},
   "outputs": [
    {
     "name": "stdout",
     "output_type": "stream",
     "text": [
      "Database backed up successfully.\n"
     ]
    }
   ],
   "source": [
    "import shutil\n",
    "\n",
    "def backup_database():\n",
    "    shutil.copy('../instances/test.db', '../instances/backup.db')\n",
    "    print(\"Database backed up successfully.\")\n",
    "\n",
    "# Test the function\n",
    "backup_database()"
   ]
  },
  {
   "cell_type": "markdown",
   "id": "964cf61d",
   "metadata": {},
   "source": [
    "\n",
    "2. Write a Python function to restore the `test.db` database from the `backup.db` file."
   ]
  },
  {
   "cell_type": "code",
   "execution_count": 93,
   "metadata": {},
   "outputs": [
    {
     "name": "stdout",
     "output_type": "stream",
     "text": [
      "Database restored successfully.\n"
     ]
    }
   ],
   "source": [
    "import shutil\n",
    "def restore_database():\n",
    "    shutil.copy('../instances/backup.db', '../instances/test.db')\n",
    "    print(\"Database restored successfully.\")\n",
    "\n",
    "# Test the function\n",
    "restore_database()"
   ]
  }
 ],
 "metadata": {
  "kernelspec": {
   "display_name": "Python 3",
   "language": "python",
   "name": "python3"
  },
  "language_info": {
   "codemirror_mode": {
    "name": "ipython",
    "version": 3
   },
   "file_extension": ".py",
   "mimetype": "text/x-python",
   "name": "python",
   "nbconvert_exporter": "python",
   "pygments_lexer": "ipython3",
   "version": "3.12.2"
  }
 },
 "nbformat": 4,
 "nbformat_minor": 5
}
