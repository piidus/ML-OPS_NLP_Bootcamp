{
 "cells": [
  {
   "cell_type": "markdown",
   "id": "c4872da5",
   "metadata": {},
   "source": [
    "# Module 3: Data Structures Assignments\n",
    "## Lesson 3.4: Dictionaries"
   ]
  },
  {
   "cell_type": "markdown",
   "id": "9799fad3",
   "metadata": {},
   "source": [
    "### Assignment 1: Creating and Accessing Dictionaries\n",
    "\n",
    "Create a dictionary with the first 10 positive integers as keys and their squares as values. Print the dictionary."
   ]
  },
  {
   "cell_type": "code",
   "execution_count": 6,
   "id": "99d4eb8a",
   "metadata": {},
   "outputs": [
    {
     "name": "stdout",
     "output_type": "stream",
     "text": [
      "{1: 1, 2: 4, 3: 9, 4: 16, 5: 25, 6: 36, 7: 49, 8: 64, 9: 81, 10: 100}\n"
     ]
    }
   ],
   "source": [
    "dict1:dict = {key:key**2 for key in range(1,11) }\n",
    "print(dict1)"
   ]
  },
  {
   "cell_type": "markdown",
   "id": "560fed15",
   "metadata": {},
   "source": [
    "### Assignment 2: Accessing Dictionary Elements\n",
    "\n",
    "Print the value of the key 5 and the keys of the dictionary created in Assignment 1."
   ]
  },
  {
   "cell_type": "code",
   "execution_count": 7,
   "id": "2dcb6536",
   "metadata": {},
   "outputs": [
    {
     "name": "stdout",
     "output_type": "stream",
     "text": [
      "25\n",
      "dict_keys([1, 2, 3, 4, 5, 6, 7, 8, 9, 10])\n"
     ]
    }
   ],
   "source": [
    "print(dict1[5]) #print value of key 5\n",
    "print(dict1.keys()) #print all keys"
   ]
  },
  {
   "cell_type": "markdown",
   "id": "d5d64332",
   "metadata": {},
   "source": [
    "### Assignment 3: Dictionary Methods\n",
    "\n",
    "Add a new key-value pair (11, 121) to the dictionary created in Assignment 1 and then remove the key-value pair with key 1. Print the modified dictionary."
   ]
  },
  {
   "cell_type": "code",
   "execution_count": 8,
   "id": "3b763b41",
   "metadata": {},
   "outputs": [
    {
     "name": "stdout",
     "output_type": "stream",
     "text": [
      "{1: 1, 2: 4, 3: 9, 4: 16, 5: 25, 6: 36, 7: 49, 8: 64, 9: 81, 10: 100, 11: 121}\n"
     ]
    }
   ],
   "source": [
    "dict1[11] = 121 #add new key and value\n",
    "print(dict1)"
   ]
  },
  {
   "cell_type": "markdown",
   "id": "92676426",
   "metadata": {},
   "source": [
    "### Assignment 4: Iterating Over Dictionaries\n",
    "\n",
    "Iterate over the dictionary created in Assignment 1 and print each key-value pair."
   ]
  },
  {
   "cell_type": "code",
   "execution_count": 9,
   "id": "1d2149c4",
   "metadata": {},
   "outputs": [
    {
     "name": "stdout",
     "output_type": "stream",
     "text": [
      "key :1 , value : 1\n",
      "key :2 , value : 4\n",
      "key :3 , value : 9\n",
      "key :4 , value : 16\n",
      "key :5 , value : 25\n",
      "key :6 , value : 36\n",
      "key :7 , value : 49\n",
      "key :8 , value : 64\n",
      "key :9 , value : 81\n",
      "key :10 , value : 100\n",
      "key :11 , value : 121\n"
     ]
    }
   ],
   "source": [
    "for key, value in dict1.items(): # iterate over keys and values\n",
    "    print(f\"key :{key} , value : {value}\")"
   ]
  },
  {
   "cell_type": "markdown",
   "id": "e96d5558",
   "metadata": {},
   "source": [
    "### Assignment 5: Dictionary Comprehensions\n",
    "\n",
    "Create a new dictionary containing the cubes of the first 10 positive integers using a dictionary comprehension. Print the new dictionary."
   ]
  },
  {
   "cell_type": "code",
   "execution_count": 10,
   "id": "aa730a44",
   "metadata": {},
   "outputs": [
    {
     "name": "stdout",
     "output_type": "stream",
     "text": [
      "{1: 1, 2: 8, 3: 27, 4: 64, 5: 125, 6: 216, 7: 343, 8: 512, 9: 729, 10: 1000}\n"
     ]
    }
   ],
   "source": [
    "dict_5:dict = {key:key**3 for key in range(1,11)} # create dictionary with key and value\n",
    "\n",
    "print(dict_5)"
   ]
  },
  {
   "cell_type": "markdown",
   "id": "f33645b0",
   "metadata": {},
   "source": [
    "\n",
    "### Assignment 6: Merging Dictionaries\n",
    "\n",
    "Create two dictionaries: one with keys as the first 5 positive integers and values as their squares, and another with keys as the next 5 positive integers and values as their squares. Merge these dictionaries into a single dictionary and print it.\n"
   ]
  },
  {
   "cell_type": "code",
   "execution_count": 14,
   "id": "0050caff",
   "metadata": {},
   "outputs": [
    {
     "name": "stdout",
     "output_type": "stream",
     "text": [
      "{1: 1, 2: 4, 3: 9, 4: 16, 5: 25} \n",
      " {6: 36, 7: 49, 8: 64, 9: 81, 10: 100}\n",
      "{1: 1, 2: 4, 3: 9, 4: 16, 5: 25, 6: 36, 7: 49, 8: 64, 9: 81, 10: 100}\n"
     ]
    }
   ],
   "source": [
    "first_dict:dict = {key:key**2 for key in range(1,6)} # create dictionary with key and value\n",
    "second_dict:dict = {key:key**2 for key in range(6,11)} # create dictionary with key and value\n",
    "print(first_dict,'\\n',second_dict)\n",
    "\n",
    "merged_dict = {**first_dict, **second_dict} # merge two dictionaries\n",
    "print(merged_dict)"
   ]
  },
  {
   "cell_type": "markdown",
   "id": "e7ea9d88",
   "metadata": {},
   "source": [
    "### Assignment 7: Nested Dictionaries\n",
    "\n",
    "Create a nested dictionary representing a student with keys 'name', 'age', 'grades', where 'grades' is another dictionary with keys 'math', 'science', and 'english'. Print the nested dictionary."
   ]
  },
  {
   "cell_type": "code",
   "execution_count": 15,
   "id": "df8d1ab3",
   "metadata": {},
   "outputs": [
    {
     "name": "stdout",
     "output_type": "stream",
     "text": [
      "{'name': 'John', 'age': 25, 'grade': 'A', 'courses': {'Math': 80, 'Science': 90, 'english': 75}}\n"
     ]
    }
   ],
   "source": [
    "students:dict = {\n",
    "    'name': 'John',\n",
    "    'age': 25,\n",
    "    'grade': 'A',\n",
    "    'courses': {'Math': 80, 'Science': 90, 'english': 75}\n",
    "}\n",
    "\n",
    "print(students)"
   ]
  },
  {
   "cell_type": "markdown",
   "id": "3d6a52ce",
   "metadata": {},
   "source": [
    "\n",
    "### Assignment 8: Dictionary of Lists\n",
    "\n",
    "Create a dictionary where the keys are the first 5 positive integers and the values are lists containing the first 5 multiples of the key. Print the dictionary."
   ]
  },
  {
   "cell_type": "code",
   "execution_count": 16,
   "id": "3dbeb1d2",
   "metadata": {},
   "outputs": [
    {
     "name": "stdout",
     "output_type": "stream",
     "text": [
      "{1: [1, 2, 3, 4, 5], 2: [2, 4, 6, 8, 10], 3: [3, 6, 9, 12, 15], 4: [4, 8, 12, 16, 20], 5: [5, 10, 15, 20, 25]}\n"
     ]
    }
   ],
   "source": [
    "dict_8:dict = {}\n",
    "for i in range(1,6):\n",
    "    dict_8[i] = [] #create dictionary with key and blank list as values\n",
    "    for j in range(1,6):\n",
    "        dict_8[i].append(i*j) #append values to list\n",
    "\n",
    "print(dict_8)"
   ]
  },
  {
   "cell_type": "markdown",
   "id": "ecad63e4",
   "metadata": {},
   "source": [
    "### Assignment 9: Dictionary of Tuples\n",
    "\n",
    "Create a dictionary where the keys are the first 5 positive integers and the values are tuples containing the key and its square. Print the dictionary.\n"
   ]
  },
  {
   "cell_type": "code",
   "execution_count": 19,
   "id": "313f086e",
   "metadata": {},
   "outputs": [
    {
     "name": "stdout",
     "output_type": "stream",
     "text": [
      "{1: (1, 2, 3, 4, 5), 2: (2, 4, 6, 8, 10), 3: (3, 6, 9, 12, 15), 4: (4, 8, 12, 16, 20), 5: (5, 10, 15, 20, 25)}\n"
     ]
    }
   ],
   "source": [
    "dict_8:dict = {}\n",
    "for i in range(1,6):\n",
    "    inner_list = [] # use for tempurary list\n",
    "    for j in range(1,6):\n",
    "        inner_list.append(i*j) #append values to list\n",
    "    \n",
    "    dict_8[i] = tuple(inner_list)    #create dictionary with key and blank list as values\n",
    "\n",
    "print(dict_8)"
   ]
  },
  {
   "cell_type": "markdown",
   "id": "11b37b9d",
   "metadata": {},
   "source": [
    "### Assignment 10: Dictionary and List Conversion\n",
    "\n",
    "Create a dictionary with the first 5 positive integers as keys and their squares as values. Convert the dictionary to a list of tuples and print it."
   ]
  },
  {
   "cell_type": "code",
   "execution_count": 20,
   "id": "c7ca072b",
   "metadata": {},
   "outputs": [
    {
     "name": "stdout",
     "output_type": "stream",
     "text": [
      "{1: 1, 2: 4, 3: 9, 4: 16, 5: 25}\n"
     ]
    }
   ],
   "source": [
    "dict_10:dict = {i : i**2 for i in range(1,6)}\n",
    "print(dict_10)\n"
   ]
  },
  {
   "cell_type": "markdown",
   "id": "c519369c",
   "metadata": {},
   "source": [
    "### Assignment 11: Dictionary Filtering\n",
    "\n",
    "Create a dictionary with the first 10 positive integers as keys and their squares as values. Create a new dictionary containing only the key-value pairs where the key is even. Print the new dictionary."
   ]
  },
  {
   "cell_type": "code",
   "execution_count": 1,
   "id": "31efb1de",
   "metadata": {},
   "outputs": [
    {
     "name": "stdout",
     "output_type": "stream",
     "text": [
      "{1: 1, 2: 4, 3: 9, 4: 16, 5: 25, 6: 36, 7: 49, 8: 64, 9: 81, 10: 100}\n",
      "{2: 4, 4: 16, 6: 36, 8: 64, 10: 100}\n"
     ]
    }
   ],
   "source": [
    "dict_11:dict = {i : i**2 for i in range(1,11)}\n",
    "print(dict_11)\n",
    "dict_11_even:dict = {key: value for key, value in dict_11.items() if key%2==0}\n",
    "print(dict_11_even)"
   ]
  },
  {
   "cell_type": "markdown",
   "id": "af7d1a79",
   "metadata": {},
   "source": [
    "\n",
    "### Assignment 12: Dictionary Key and Value Transformation\n",
    "\n",
    "Create a dictionary with the first 5 positive integers as keys and their squares as values. Create a new dictionary with keys and values swapped. Print the new dictionary."
   ]
  },
  {
   "cell_type": "code",
   "execution_count": 3,
   "id": "90557025",
   "metadata": {},
   "outputs": [
    {
     "name": "stdout",
     "output_type": "stream",
     "text": [
      "{1: 1, 2: 4, 3: 9, 4: 16, 5: 25}\n",
      "{1: 1, 2: 4, 3: 9, 4: 16, 5: 25, 6: 12, 7: 14, 8: 64, 9: 81, 10: 100}\n",
      "{1: 'Not Number', 2: 4, 3: 9, 4: 16, 5: 25, 6: 12, 7: 14, 8: 64, 9: 81, 10: 100}\n"
     ]
    }
   ],
   "source": [
    "dict_12:dict = {i : i**2 for i in range(1,6)}\n",
    "print(dict_12)\n",
    "\n",
    "dict_12.update({6: 12, 7: 14, 8: 64, 9: 81, 10: 100})\n",
    "print(dict_12)\n",
    "dict_12[1] = 'Not Number'\n",
    "print(dict_12)"
   ]
  },
  {
   "cell_type": "markdown",
   "id": "522f9bd5",
   "metadata": {},
   "source": [
    "### Assignment 13: Default Dictionary\n",
    "\n",
    "Create a default dictionary where each key has a default value of an empty list. Add some elements to the lists and print the dictionary."
   ]
  },
  {
   "cell_type": "code",
   "execution_count": 6,
   "id": "2c5c2407",
   "metadata": {},
   "outputs": [
    {
     "name": "stdout",
     "output_type": "stream",
     "text": [
      "{1: [], 2: [], 3: [], 4: [], 5: []}\n",
      "{1: [1], 2: [], 3: [], 4: [], 5: []}\n",
      "{1: [1], 2: 'New Value', 3: [], 4: [], 5: []}\n"
     ]
    }
   ],
   "source": [
    "dict_13:dict = {i : [] for i in range(1,6)}\n",
    "print(dict_13)\n",
    "dict_13[1].append(1)\n",
    "print(dict_13)\n",
    "dict_13[2] = 'New Value'\n",
    "print(dict_13)"
   ]
  },
  {
   "cell_type": "markdown",
   "id": "82b6afaf",
   "metadata": {},
   "source": [
    "### Assignment 14: Counting with Dictionaries\n",
    "\n",
    "Write a function that takes a string and returns a dictionary with the count of each character in the string. Print the dictionary."
   ]
  },
  {
   "cell_type": "code",
   "execution_count": 7,
   "id": "36c42134",
   "metadata": {},
   "outputs": [
    {
     "name": "stdout",
     "output_type": "stream",
     "text": [
      "{'h': 1, 'e': 1, 'l': 3, 'o': 2, ' ': 1, 'w': 1, 'r': 1, 'd': 1}\n"
     ]
    }
   ],
   "source": [
    "def character_count(sentence)->dict:\n",
    "    dict_14 = {}\n",
    "    for i in sentence:\n",
    "        if i in dict_14:\n",
    "            dict_14[i] += 1\n",
    "        else:\n",
    "            dict_14[i] = 1\n",
    "    return dict_14\n",
    "\n",
    "sentence = \"hello world\"\n",
    "print(character_count(sentence))"
   ]
  },
  {
   "cell_type": "markdown",
   "metadata": {},
   "source": [
    "### Assignment 15: Dictionary and JSON\n",
    "\n",
    "Create a dictionary representing a book with keys 'title', 'author', 'year', and 'genre'. Convert the dictionary to a JSON string and print it."
   ]
  },
  {
   "cell_type": "code",
   "execution_count": 11,
   "metadata": {},
   "outputs": [
    {
     "name": "stdout",
     "output_type": "stream",
     "text": [
      "{'title': 'python', 'author': 'guido van rossum', 'year': 1991}\n",
      "{\n",
      "    \"title\": \"python\",\n",
      "    \"author\": \"guido van rossum\",\n",
      "    \"year\": 1991\n",
      "}\n"
     ]
    }
   ],
   "source": [
    "book:dict = {'title': 'python', 'author': 'guido van rossum', 'year': 1991}\n",
    "print(book)\n",
    "import json\n",
    "\n",
    "book_json = json.dumps(book,indent=4)\n",
    "print(book_json)"
   ]
  },
  {
   "cell_type": "code",
   "execution_count": null,
   "id": "563134e8",
   "metadata": {},
   "outputs": [],
   "source": []
  }
 ],
 "metadata": {
  "kernelspec": {
   "display_name": "Python 3",
   "language": "python",
   "name": "python3"
  },
  "language_info": {
   "codemirror_mode": {
    "name": "ipython",
    "version": 3
   },
   "file_extension": ".py",
   "mimetype": "text/x-python",
   "name": "python",
   "nbconvert_exporter": "python",
   "pygments_lexer": "ipython3",
   "version": "3.12.2"
  }
 },
 "nbformat": 4,
 "nbformat_minor": 5
}
