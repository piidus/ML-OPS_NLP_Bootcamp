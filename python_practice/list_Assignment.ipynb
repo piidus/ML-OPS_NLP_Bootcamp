{
 "cells": [
  {
   "cell_type": "markdown",
   "id": "a22db8b1",
   "metadata": {},
   "source": [
    "# Module 3: Data Structures Assignments\n",
    "## Lesson 3.1: Lists"
   ]
  },
  {
   "cell_type": "markdown",
   "id": "041926a5",
   "metadata": {},
   "source": [
    "### Assignment 1: Creating and Accessing Lists\n",
    "\n",
    "Create a list of the first 20 positive integers. Print the list."
   ]
  },
  {
   "cell_type": "code",
   "execution_count": 30,
   "id": "0c002212",
   "metadata": {},
   "outputs": [
    {
     "name": "stdout",
     "output_type": "stream",
     "text": [
      "[1, 2, 3, 4, 5, 6, 7, 8, 9, 10, 11, 12, 13, 14, 15, 16, 17, 18, 19, 20]\n",
      "20\n"
     ]
    }
   ],
   "source": [
    "positive_list = [i for i in range(1,21)]\n",
    "print(positive_list)\n",
    "print(len(positive_list))"
   ]
  },
  {
   "cell_type": "markdown",
   "id": "ea460454",
   "metadata": {},
   "source": [
    "### Assignment 2: Accessing List Elements\n",
    "\n",
    "Print the first, middle, and last elements of the list created in Assignment 1."
   ]
  },
  {
   "cell_type": "code",
   "execution_count": 31,
   "id": "3b523fbb",
   "metadata": {},
   "outputs": [
    {
     "name": "stdout",
     "output_type": "stream",
     "text": [
      "1\n",
      "11\n",
      "20\n"
     ]
    }
   ],
   "source": [
    "first_element: int = positive_list[0]\n",
    "middle_element: int = positive_list[len(positive_list)//2:len(positive_list)//2+1][0] #// for integer division\n",
    "last_element: int = positive_list[-1]\n",
    "print(first_element)\n",
    "print(middle_element)\n",
    "print(last_element)"
   ]
  },
  {
   "cell_type": "markdown",
   "id": "76728aa3",
   "metadata": {},
   "source": [
    "### Assignment 3: List Slicing\n",
    "\n",
    "Print the first five elements, the last five elements, and the elements from index 5 to 15 of the list created in Assignment 1.\n"
   ]
  },
  {
   "cell_type": "code",
   "execution_count": 32,
   "id": "aceedc86",
   "metadata": {},
   "outputs": [
    {
     "name": "stdout",
     "output_type": "stream",
     "text": [
      "first 5 elements: [1, 2, 3, 4, 5]\n",
      "last 5 elements: [16, 17, 18, 19, 20]\n",
      "list from 5th to 10th element: [5, 6, 7, 8, 9, 10]\n"
     ]
    }
   ],
   "source": [
    "print('first 5 elements:', positive_list[:5])\n",
    "print('last 5 elements:', positive_list[-5:])\n",
    "print('list from 5th to 10th element:', positive_list[4:10])"
   ]
  },
  {
   "cell_type": "markdown",
   "id": "ea1e5608",
   "metadata": {},
   "source": [
    "### Assignment 4: List Comprehensions\n",
    "\n",
    "Create a new list containing the squares of the first 10 positive integers using a list comprehension. Print the new list."
   ]
  },
  {
   "cell_type": "code",
   "execution_count": 33,
   "id": "5648c55e",
   "metadata": {},
   "outputs": [
    {
     "name": "stdout",
     "output_type": "stream",
     "text": [
      "square of first 10 natural numbers: [1, 4, 9, 16, 25, 36, 49, 64, 81, 100]\n"
     ]
    }
   ],
   "source": [
    "list_positive = [i**2 for i in range(1,11)]\n",
    "print('square of first 10 natural numbers:', list_positive)"
   ]
  },
  {
   "cell_type": "markdown",
   "id": "b40dad7e",
   "metadata": {},
   "source": [
    "### Assignment 5: Filtering Lists\n",
    "\n",
    "Create a new list containing only the even numbers from the list created in Assignment 1 using a list comprehension. Print the new list."
   ]
  },
  {
   "cell_type": "code",
   "execution_count": 34,
   "id": "7ff0e5f9",
   "metadata": {},
   "outputs": [
    {
     "name": "stdout",
     "output_type": "stream",
     "text": [
      "[2, 4, 6, 8, 10, 12, 14, 16, 18, 20]\n"
     ]
    }
   ],
   "source": [
    "positive_even_list:list = [i for i in positive_list if i%2==0]\n",
    "print(positive_even_list)"
   ]
  },
  {
   "cell_type": "markdown",
   "id": "849fb7e4",
   "metadata": {},
   "source": [
    "### Assignment 6: List Methods\n",
    "\n",
    "Create a list of random numbers and sort it in ascending and descending order. Remove the duplicates from the list and print the modified list."
   ]
  },
  {
   "cell_type": "code",
   "execution_count": 35,
   "id": "31134fee",
   "metadata": {},
   "outputs": [
    {
     "name": "stdout",
     "output_type": "stream",
     "text": [
      "random list [36, 81, 72, 12, 36, 83, 83, 43, 18, 82, 81, 72, 12, 36]\n",
      "sorted list [12, 12, 18, 36, 36, 36, 43, 72, 72, 81, 81, 82, 83, 83]\n",
      "no duplicate list [12, 18, 36, 43, 72, 81, 82, 83]\n"
     ]
    }
   ],
   "source": [
    "import random\n",
    "new_random_list = [random.randint(1,100) for i in range(10)]\n",
    "list_with_duplicates = new_random_list+ new_random_list[1:5]# adding for create duplicate\n",
    "print('random list',list_with_duplicates) \n",
    "sorted_list = sorted(list_with_duplicates)\n",
    "print('sorted list',sorted_list)\n",
    "no_duplicate_list = list(dict.fromkeys(sorted_list))    \n",
    "print('no duplicate list',no_duplicate_list)\n"
   ]
  },
  {
   "cell_type": "markdown",
   "id": "9c3e376f",
   "metadata": {},
   "source": [
    "\n",
    "### Assignment 7: Nested Lists\n",
    "\n",
    "Create a nested list representing a 3x3 matrix and print the matrix. Access and print the element at the second row and third column."
   ]
  },
  {
   "cell_type": "code",
   "execution_count": 36,
   "id": "8d791332",
   "metadata": {},
   "outputs": [
    {
     "name": "stdout",
     "output_type": "stream",
     "text": [
      "[[30, 39, 1], [74, 15, 80], [61, 98, 34]]\n",
      "second row third column ::   80\n"
     ]
    }
   ],
   "source": [
    "nested_list = []\n",
    "for i in range(3):\n",
    "    nested_list.append([])\n",
    "    for j in range(3):\n",
    "        nested_list[i].append(random.randint(1,100))\n",
    "print(nested_list)\n",
    "print('second row third column ::  ',nested_list[1][2])"
   ]
  },
  {
   "cell_type": "markdown",
   "id": "1455b1a5",
   "metadata": {},
   "source": [
    "### Assignment 8: List of Dictionaries\n",
    "\n",
    "Create a list of dictionaries where each dictionary represents a student with keys 'name' and 'score'. Sort the list of dictionaries by the 'score' in descending order and print the sorted list."
   ]
  },
  {
   "cell_type": "code",
   "execution_count": 37,
   "id": "c6064093",
   "metadata": {},
   "outputs": [
    {
     "name": "stdout",
     "output_type": "stream",
     "text": [
      "[['Rohan', 47], ['Subhas', 71], ['Raj', 11], ['Rishabh', 3], ['Raju', 15], ['Rohit', 28]]\n"
     ]
    }
   ],
   "source": [
    "student_name_list:list = ['Rohan', 'Subhas', 'Raj', 'Rishabh', 'Raju', 'Rohit']\n",
    "student_name_score:list = [random.randint(1,100) for i in range(len(student_name_list))]\n",
    "student_combine_list:list = []\n",
    "for i in range(len(student_name_list)):\n",
    "    student_combine_list.append([student_name_list[i],student_name_score[i]])\n",
    "print(student_combine_list)"
   ]
  },
  {
   "cell_type": "markdown",
   "id": "045be7a6",
   "metadata": {},
   "source": [
    "\n",
    "### Assignment 9: Matrix Transposition\n",
    "\n",
    "Write a function that takes a 3x3 matrix (nested list) as input and returns its transpose. Print the original and transposed matrices."
   ]
  },
  {
   "cell_type": "code",
   "execution_count": 38,
   "id": "1f435c8f",
   "metadata": {},
   "outputs": [
    {
     "name": "stdout",
     "output_type": "stream",
     "text": [
      "Original matrix:\n",
      "[1, 2, 3]\n",
      "[4, 5, 6]\n",
      "[7, 8, 9]\n",
      "Transposed matrix:\n",
      "[1, 4, 7]\n",
      "[2, 5, 8]\n",
      "[3, 6, 9]\n"
     ]
    }
   ],
   "source": [
    "def transpose_matrix(matrix):\n",
    "    transposed = [[row[i] for row in matrix] for i in range(3)]\n",
    "    print(\"Original matrix:\")\n",
    "    for row in matrix:\n",
    "        print(row)\n",
    "    print(\"Transposed matrix:\")\n",
    "    for row in transposed:\n",
    "        print(row)\n",
    "    return transposed\n",
    "\n",
    "# Example usage\n",
    "matrix = [[1, 2, 3], [4, 5, 6], [7, 8, 9]]\n",
    "transposed = transpose_matrix(matrix)"
   ]
  },
  {
   "cell_type": "code",
   "execution_count": 39,
   "id": "f4e6fc9b",
   "metadata": {},
   "outputs": [
    {
     "name": "stdout",
     "output_type": "stream",
     "text": [
      "Original matrix:\n",
      "[[1 2 3]\n",
      " [4 5 6]\n",
      " [7 8 9]]\n",
      "Transposed matrix:\n",
      "[[1 4 7]\n",
      " [2 5 8]\n",
      " [3 6 9]]\n"
     ]
    }
   ],
   "source": [
    "import numpy as np\n",
    "\n",
    "def transpose_matrix(matrix):\n",
    "    matrix = np.array(matrix)\n",
    "    transposed = matrix.T\n",
    "    print(\"Original matrix:\")\n",
    "    print(matrix)\n",
    "    print(\"Transposed matrix:\")\n",
    "    print(transposed)\n",
    "    return transposed\n",
    "\n",
    "# Example usage\n",
    "matrix = [[1, 2, 3], [4, 5, 6], [7, 8, 9]]\n",
    "transposed = transpose_matrix(matrix)"
   ]
  },
  {
   "cell_type": "markdown",
   "id": "6dd9bbc4",
   "metadata": {},
   "source": [
    "### Assignment 10: Flattening a Nested List\n",
    "\n",
    "Write a function that takes a nested list and flattens it into a single list. Print the original and flattened lists."
   ]
  },
  {
   "cell_type": "code",
   "execution_count": 40,
   "id": "dadfe52c",
   "metadata": {},
   "outputs": [
    {
     "name": "stdout",
     "output_type": "stream",
     "text": [
      "Original nested list: [[1, 2, [3, 4]], [5, 6], 7, [8, [9, 10]]]\n",
      "Flattened list: [1, 2, 3, 4, 5, 6, 7, 8, 9, 10]\n"
     ]
    }
   ],
   "source": [
    "def flatten_list(nested_list):\n",
    "    flattened_list = []\n",
    "    for i in nested_list:\n",
    "        if isinstance(i, list):\n",
    "            flattened_list.extend(flatten_list(i))\n",
    "        else:\n",
    "            flattened_list.append(i)\n",
    "    return flattened_list\n",
    "\n",
    "nested_list = [[1, 2, [3, 4]], [5, 6], 7, [8, [9, 10]]]\n",
    "print(\"Original nested list:\", nested_list)\n",
    "flattened_list = flatten_list(nested_list)\n",
    "print(\"Flattened list:\", flattened_list)"
   ]
  },
  {
   "cell_type": "code",
   "execution_count": 44,
   "id": "4289a45a",
   "metadata": {},
   "outputs": [
    {
     "name": "stdout",
     "output_type": "stream",
     "text": [
      "True\n",
      "True\n",
      "True\n",
      "True\n"
     ]
    }
   ],
   "source": [
    "class NumericList(list):\n",
    "  def __init__(self):\n",
    "    pass\n",
    "\n",
    "num_list = NumericList()\n",
    "\n",
    "# Check if num_list is an instance of NumericList\n",
    "print(isinstance(num_list, NumericList))  # True\n",
    "\n",
    "# Check if num_list is a kind of list (because NumericList inherits from list)\n",
    "print(isinstance(num_list, list))  # True\n",
    "\n",
    "# Check if a string is a string\n",
    "print(isinstance(\"hello\", str))  # True\n",
    "\n",
    "# Check if a variable can be either a string or a list\n",
    "data = \"hello\"\n",
    "print(isinstance(data, (str, list)))  # True\n"
   ]
  },
  {
   "cell_type": "markdown",
   "id": "e130c7e7",
   "metadata": {},
   "source": [
    "### Assignment 11: List Manipulation\n",
    "\n",
    "Create a list of the first 10 positive integers. Remove the elements at indices 2, 4, and 6, and insert the element '99' at index 5. Print the modified list."
   ]
  },
  {
   "cell_type": "code",
   "execution_count": 48,
   "id": "8b51ac08",
   "metadata": {},
   "outputs": [
    {
     "name": "stdout",
     "output_type": "stream",
     "text": [
      "Modified list: [1, 2, 4, 6, 8, 99, 9, 10]\n"
     ]
    }
   ],
   "source": [
    "\n",
    "# Create a list of the first 10 positive integers\n",
    "original_list = list(range(1, 11))\n",
    "\n",
    "# Remove the elements at indices 2, 4, and 6\n",
    "indices_to_remove = [2, 4, 6]\n",
    "for index in sorted(indices_to_remove, reverse=True):\n",
    "    original_list.pop(index)\n",
    "\n",
    "# Insert the element '99' at index 5\n",
    "original_list.insert(5, 99)\n",
    "\n",
    "# Print the modified list\n",
    "print(\"Modified list:\", original_list)\n",
    "\n"
   ]
  },
  {
   "cell_type": "markdown",
   "id": "77f73ccf",
   "metadata": {},
   "source": [
    "### Assignment 12: List Zipping\n",
    "\n",
    "Create two lists of the same length. Use the `zip` function to combine these lists into a list of tuples and print the result."
   ]
  },
  {
   "cell_type": "code",
   "execution_count": 50,
   "id": "7e5923a8",
   "metadata": {},
   "outputs": [
    {
     "name": "stdout",
     "output_type": "stream",
     "text": [
      "[(1, 6), (2, 7), (3, 8), (4, 9), (5, 10)]\n"
     ]
    }
   ],
   "source": [
    "first_list:list = [1, 2, 3, 4, 5]\n",
    "second_list:list = [6, 7, 8, 9, 10]\n",
    "zipped_list = list(zip(first_list, second_list))\n",
    "print(zipped_list)"
   ]
  },
  {
   "cell_type": "markdown",
   "id": "7ef73181",
   "metadata": {},
   "source": [
    "### Assignment 13: List Reversal\n",
    "\n",
    "Write a function that takes a list and returns a new list with the elements in reverse order. Print the original and reversed lists."
   ]
  },
  {
   "cell_type": "code",
   "execution_count": 52,
   "id": "144b70f9",
   "metadata": {},
   "outputs": [
    {
     "name": "stdout",
     "output_type": "stream",
     "text": [
      "[4, 7, 2, 1]\n"
     ]
    }
   ],
   "source": [
    "def list_revalsal(list1):\n",
    "    return list1[::-1]\n",
    "reversed_list = list_revalsal([1,2,7,4])\n",
    "print(reversed_list)"
   ]
  },
  {
   "cell_type": "markdown",
   "id": "1f7edf6c",
   "metadata": {},
   "source": [
    "\n",
    "### Assignment 14: List Rotation\n",
    "\n",
    "Write a function that rotates a list by n positions. Print the original and rotated lists."
   ]
  },
  {
   "cell_type": "code",
   "execution_count": 53,
   "id": "7224ba9a",
   "metadata": {},
   "outputs": [
    {
     "name": "stdout",
     "output_type": "stream",
     "text": [
      "Original list: [1, 2, 3, 4, 5, 6, 7]\n",
      "Rotated list by 2 positions: [3, 4, 5, 6, 7, 1, 2]\n"
     ]
    }
   ],
   "source": [
    "def rotate_list(input_list, n):\n",
    "    n = n % len(input_list)  # Ensure n is within the length of the list\n",
    "    rotated_list = input_list[n:] + input_list[:n]\n",
    "    return rotated_list\n",
    "\n",
    "# Original list\n",
    "original_list = [1, 2, 3, 4, 5, 6, 7]\n",
    "\n",
    "# Rotate the list by 2 positions\n",
    "n = 2\n",
    "rotated_list = rotate_list(original_list, n)\n",
    "\n",
    "print(\"Original list:\", original_list)\n",
    "print(f\"Rotated list by {n} positions:\", rotated_list)"
   ]
  },
  {
   "cell_type": "markdown",
   "metadata": {},
   "source": [
    "### Assignment 15: List Intersection\n",
    "\n",
    "Write a function that takes two lists and returns a new list containing only the elements that are present in both lists. Print the intersected list."
   ]
  },
  {
   "cell_type": "code",
   "execution_count": 54,
   "metadata": {},
   "outputs": [
    {
     "name": "stdout",
     "output_type": "stream",
     "text": [
      "Intersected list: [3, 4, 5]\n"
     ]
    }
   ],
   "source": [
    "def intersection(list1, list2):\n",
    "    intersected_list = list(set(list1) & set(list2))\n",
    "    return intersected_list\n",
    "\n",
    "# Two lists\n",
    "list1 = [1, 2, 3, 4, 5]\n",
    "list2 = [3, 4, 5, 6, 7]\n",
    "\n",
    "# Find elements present in both lists\n",
    "intersected_list = intersection(list1, list2)\n",
    "\n",
    "print(\"Intersected list:\", intersected_list)"
   ]
  },
  {
   "cell_type": "code",
   "execution_count": null,
   "id": "49c4977d",
   "metadata": {},
   "outputs": [],
   "source": []
  }
 ],
 "metadata": {
  "kernelspec": {
   "display_name": "Python 3",
   "language": "python",
   "name": "python3"
  },
  "language_info": {
   "codemirror_mode": {
    "name": "ipython",
    "version": 3
   },
   "file_extension": ".py",
   "mimetype": "text/x-python",
   "name": "python",
   "nbconvert_exporter": "python",
   "pygments_lexer": "ipython3",
   "version": "3.12.2"
  }
 },
 "nbformat": 4,
 "nbformat_minor": 5
}
