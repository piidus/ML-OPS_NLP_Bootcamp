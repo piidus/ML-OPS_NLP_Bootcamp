{
 "cells": [
  {
   "cell_type": "markdown",
   "id": "3b5d837d",
   "metadata": {},
   "source": [
    "# Module: File Handling Assignments\n",
    "## Lesson: File Handling and Operations"
   ]
  },
  {
   "cell_type": "markdown",
   "id": "aff88de2",
   "metadata": {},
   "source": [
    "### Assignment 1: Reading a File\n",
    "\n",
    "Write a function that reads the contents of a file named `sample.txt` and prints each line."
   ]
  },
  {
   "cell_type": "code",
   "execution_count": 10,
   "id": "1089bb40",
   "metadata": {},
   "outputs": [
    {
     "name": "stdout",
     "output_type": "stream",
     "text": [
      "['Hi', 'Respected Sir', 'This is to Infrom you, that ...']\n"
     ]
    }
   ],
   "source": [
    "with open(\"data/sample.txt\", 'r') as f:\n",
    "    lines = f.readlines()\n",
    "    print(list(line.strip('\\n') for line in lines))"
   ]
  },
  {
   "cell_type": "markdown",
   "id": "e5a8cca4",
   "metadata": {},
   "source": [
    "### Assignment 2: Writing to a File\n",
    "\n",
    "Write a function that writes a list of strings to a file named `output.txt`, with each string on a new line."
   ]
  },
  {
   "cell_type": "code",
   "execution_count": 17,
   "id": "14785c86",
   "metadata": {},
   "outputs": [],
   "source": [
    "text = ['Hi',\n",
    "        'Respected Sir',\n",
    "        'This is to Infrom you, that ...']\n",
    "with open('data/output.txt', 'w') as f:\n",
    "    for line in text:\n",
    "        f.write(line + '\\n')\n",
    "        # f.write('\\n')\n",
    "    # f.writelines(text)"
   ]
  },
  {
   "cell_type": "markdown",
   "id": "0116e932",
   "metadata": {},
   "source": [
    "### Assignment 3: Copying a File\n",
    "\n",
    "Write a function that copies the contents of a file named `source.txt` to a new file named `destination.txt`."
   ]
  },
  {
   "cell_type": "code",
   "execution_count": 21,
   "id": "46a886ed",
   "metadata": {},
   "outputs": [
    {
     "name": "stdout",
     "output_type": "stream",
     "text": [
      "Hi\n",
      "Respected Sir\n",
      "This is to Infrom you, that ...\n"
     ]
    }
   ],
   "source": [
    "with open('data/source.txt',mode='r') as f:\n",
    "    lines = f.read()\n",
    "    print(lines)\n",
    "    with open('data/destination.txt',mode='w') as f1:\n",
    "        f1.write(lines)"
   ]
  },
  {
   "cell_type": "markdown",
   "id": "bf1134bc",
   "metadata": {},
   "source": [
    "### Assignment 4: Appending to a File\n",
    "\n",
    "Write a function that appends a given string to the end of a file named `log.txt`."
   ]
  },
  {
   "cell_type": "code",
   "execution_count": null,
   "id": "4b9fa022",
   "metadata": {},
   "outputs": [],
   "source": [
    "import os\n",
    "def write_append_line(file_path, line):\n",
    "    with open(file_path, 'a') as file:\n",
    "        file.write(line + '\\n')\n",
    "file_path = os.path.join('data', 'log.txt')    \n",
    "w = [write_append_line(file_path, r) for r in text] \n"
   ]
  },
  {
   "cell_type": "markdown",
   "id": "836de224",
   "metadata": {},
   "source": [
    "### Assignment 5: Counting Words in a File\n",
    "\n",
    "Write a function that reads the contents of a file named `document.txt` and returns the number of words in the file."
   ]
  },
  {
   "cell_type": "code",
   "execution_count": 28,
   "id": "3203352c",
   "metadata": {},
   "outputs": [
    {
     "name": "stdout",
     "output_type": "stream",
     "text": [
      "[1, 2, 7]\n"
     ]
    }
   ],
   "source": [
    "file_path = os.path.join('data', 'document.txt')\n",
    "with open(file_path, 'r') as file:\n",
    "    lines = file.readlines()\n",
    "    print(list(len(line.strip('\\n').split(' ')) for line in lines))"
   ]
  },
  {
   "cell_type": "markdown",
   "id": "7ea23ad2",
   "metadata": {},
   "source": [
    "### Assignment 6: Finding and Replacing Text\n",
    "\n",
    "Write a function that finds and replaces all occurrences of a given word in a file named `data.txt` with another word."
   ]
  },
  {
   "cell_type": "code",
   "execution_count": 3,
   "id": "24d9a9cb",
   "metadata": {},
   "outputs": [],
   "source": [
    "data='''you is a good boy.\\nyou is a good girl.\\nyou is a good man.\\n\n",
    "'''\n",
    "with open('data/data.txt','w') as f:\n",
    "    f.write(data)"
   ]
  },
  {
   "cell_type": "code",
   "execution_count": 8,
   "id": "f16b30ca",
   "metadata": {},
   "outputs": [
    {
     "name": "stdout",
     "output_type": "stream",
     "text": [
      "Replaced is with are in data/data.txt.\n",
      "you are a good boy.\n",
      "you are a good girl.\n",
      "you are a good man.\n",
      "\n",
      "\n"
     ]
    }
   ],
   "source": [
    "def find_and_replace(file_path, old_word, new_word):\n",
    "    with open(file_path, 'r') as file:\n",
    "        content = file.read()\n",
    "\n",
    "    new_content = content.replace(old_word, new_word)\n",
    "\n",
    "    with open(file_path, 'w') as file:\n",
    "        file.write(new_content)\n",
    "\n",
    "    print(f\"Replaced {old_word} with {new_word} in {file_path}.\")\n",
    "    print(new_content)\n",
    "\n",
    "\n",
    "find_and_replace('data/data.txt', 'is', 'are')"
   ]
  },
  {
   "cell_type": "markdown",
   "id": "ac9b18f5",
   "metadata": {},
   "source": [
    "### Assignment 7: Reading a File in Reverse\n",
    "\n",
    "Write a function that reads the contents of a file named `reverse.txt` and prints each line in reverse order."
   ]
  },
  {
   "cell_type": "code",
   "execution_count": 9,
   "id": "9395edfb",
   "metadata": {},
   "outputs": [
    {
     "name": "stdout",
     "output_type": "stream",
     "text": [
      "['\\n', 'you are a good man.\\n', 'you are a good girl.\\n', 'you are a good boy.\\n']\n"
     ]
    }
   ],
   "source": [
    "def reversed_content(file_path):\n",
    "    with open(file_path, 'r') as file:\n",
    "        lines = file.readlines()\n",
    "\n",
    "    reversed_lines = lines[::-1]\n",
    "\n",
    "    print(reversed_lines)\n",
    "\n",
    "reversed_content('data/reverse.txt')"
   ]
  },
  {
   "cell_type": "markdown",
   "id": "cbd2e069",
   "metadata": {},
   "source": [
    "### Assignment 8: Counting Lines, Words, and Characters\n",
    "\n",
    "Write a function that reads the contents of a file named `stats.txt` and returns the number of lines, words, and characters in the file."
   ]
  },
  {
   "cell_type": "code",
   "execution_count": 20,
   "id": "6ae028d8",
   "metadata": {},
   "outputs": [
    {
     "name": "stdout",
     "output_type": "stream",
     "text": [
      "no of lines ::  3\n",
      "total Letters ::  60\n",
      "Total Words ::  15\n"
     ]
    }
   ],
   "source": [
    "def count_words(file_path)->None:\n",
    "    with open(file_path, 'r') as file:\n",
    "        print('no of lines :: ',len(file.readlines())) # file.readlines()\n",
    "\n",
    "    with open(file_path, 'r') as file:   \n",
    "        content = file.read()\n",
    "        # print(content)\n",
    "        print('total Letters :: ' ,len(content))\n",
    "        words = content.split()\n",
    "        print('Total Words :: ',len(words)) #len(words)\n",
    "\n",
    "count_words('data/stats.txt')"
   ]
  },
  {
   "cell_type": "markdown",
   "id": "3a0f97ca",
   "metadata": {},
   "source": [
    "### Assignment 9: Merging Multiple Files\n",
    "\n",
    "Write a function that merges the contents of multiple files into a single file named `merged.txt`."
   ]
  },
  {
   "cell_type": "code",
   "execution_count": 22,
   "id": "f70e6289",
   "metadata": {},
   "outputs": [],
   "source": [
    "import os\n",
    "\n",
    "def merge_files(file_paths):\n",
    "    with open('data/merged.txt', 'w') as merged_file:\n",
    "        for file_path in file_paths:\n",
    "            with open(file_path, 'r') as file:\n",
    "                merged_file.write(file.read())\n",
    "\n",
    "file_paths = ['data/data.txt', 'data/stats.txt', 'data/reverse.txt']\n",
    "merge_files(file_paths)"
   ]
  },
  {
   "cell_type": "markdown",
   "id": "9044187d",
   "metadata": {},
   "source": [
    "### Assignment 10: Splitting a Large File\n",
    "\n",
    "Write a function that splits a large file named `large.txt` into smaller files of 100 lines each."
   ]
  },
  {
   "cell_type": "code",
   "execution_count": 38,
   "id": "48e1cb87",
   "metadata": {},
   "outputs": [],
   "source": [
    "from faker import Faker\n",
    "\n",
    "# Create a Faker instance\n",
    "fake = Faker()\n",
    "def create_large_file(file_path, num_lines):\n",
    "    with open(file_path, 'w') as file:\n",
    "        for i in range(num_lines):\n",
    "            # Generate a random sentence\n",
    "            sentence = f\"{fake.sentence()}\\n\"\n",
    "            file.write(sentence)\n",
    "\n",
    "create_large_file('data/large.txt', 1000000)"
   ]
  },
  {
   "cell_type": "code",
   "execution_count": 41,
   "id": "3c21356c",
   "metadata": {},
   "outputs": [],
   "source": [
    "import os\n",
    "small_file_path = 'data/small'\n",
    "\n",
    "def split_large_file(filename):\n",
    "    with open(filename, 'r') as large_file:\n",
    "        lines = large_file.readlines()\n",
    "    \n",
    "    for i in range(0, len(lines), 100):\n",
    "        file_name = f'part_{i//100 + 1}.txt'\n",
    "        with open(f'{os.path.join(small_file_path, file_name)}', 'w') as small_file:\n",
    "            small_file.writelines(lines[i:i+100])\n",
    "split_large_file('data/large.txt')"
   ]
  },
  {
   "cell_type": "markdown",
   "id": "74e19c2c",
   "metadata": {},
   "source": [
    "### Assignment 11: Creating a Log File\n",
    "\n",
    "Write a function that creates a log file named `activity.log` and writes log messages with timestamps."
   ]
  },
  {
   "cell_type": "code",
   "execution_count": 42,
   "id": "d8ccfc7b",
   "metadata": {},
   "outputs": [],
   "source": [
    "import logging\n",
    "import time\n",
    "\n",
    "def create_log_file():\n",
    "    # Create a logger\n",
    "    logger = logging.getLogger('activity_logger')\n",
    "    logger.setLevel(logging.INFO)\n",
    "\n",
    "    # Create a file handler\n",
    "    file_handler = logging.FileHandler('activity.log')\n",
    "    file_handler.setLevel(logging.INFO)\n",
    "\n",
    "    # Create a formatter\n",
    "    formatter = logging.Formatter('%(asctime)s - %(message)s')\n",
    "    file_handler.setFormatter(formatter)\n",
    "\n",
    "    # Add the file handler to the logger\n",
    "    logger.addHandler(file_handler)\n",
    "\n",
    "    # Return the logger\n",
    "    return logger\n",
    "\n",
    "# Example usage\n",
    "logger = create_log_file()\n",
    "\n",
    "# Write log messages\n",
    "logger.info('Starting activity')\n",
    "time.sleep(1)\n",
    "logger.info('Activity completed')"
   ]
  },
  {
   "cell_type": "markdown",
   "id": "c89f3426",
   "metadata": {},
   "source": [
    "### Assignment 12: Binary File Operations\n",
    "\n",
    "Write a function that reads a binary file named `image.bin` and writes its contents to another binary file named `copy_image.bin`."
   ]
  },
  {
   "cell_type": "code",
   "execution_count": 45,
   "id": "8af560ac",
   "metadata": {},
   "outputs": [],
   "source": [
    "def copy_binary_file(input_file, output_file):\n",
    "    with open(input_file, 'rb') as in_file, open(output_file, 'wb') as out_file:\n",
    "        out_file.write(in_file.read())\n",
    "\n",
    "copy_binary_file('data/image.bin', 'data/copy_image.bin')\n"
   ]
  },
  {
   "cell_type": "markdown",
   "id": "48a44d21",
   "metadata": {},
   "source": [
    "### Assignment 13: CSV File Operations\n",
    "\n",
    "Write a function that reads a CSV file named `data.csv` and prints its contents as a list of dictionaries."
   ]
  },
  {
   "cell_type": "code",
   "execution_count": 48,
   "id": "131d5bfd",
   "metadata": {},
   "outputs": [],
   "source": [
    "import csv\n",
    "# Create a list of dummy data\n",
    "data = [\n",
    "    ['Name', 'Age', 'City'],\n",
    "    ['John', 25, 'New York'],\n",
    "    ['Alice', 30, 'London'],\n",
    "    ['Bob', 35, 'Paris']\n",
    "]\n",
    "\n",
    "# Create a CSV file\n",
    "with open('data/data.csv', 'w', newline='') as csvfile:\n",
    "    writer = csv.writer(csvfile)\n",
    "    writer.writerows(data)"
   ]
  },
  {
   "cell_type": "code",
   "execution_count": 49,
   "id": "dd15bdcb",
   "metadata": {},
   "outputs": [
    {
     "name": "stdout",
     "output_type": "stream",
     "text": [
      "[{'Name': 'John', 'Age': '25', 'City': 'New York'}, {'Name': 'Alice', 'Age': '30', 'City': 'London'}, {'Name': 'Bob', 'Age': '35', 'City': 'Paris'}]\n"
     ]
    }
   ],
   "source": [
    "import csv\n",
    "\n",
    "def read_csv_file(file_name):\n",
    "    data = []\n",
    "    with open(file_name, mode='r') as file:\n",
    "        csv_reader = csv.DictReader(file)\n",
    "        for row in csv_reader:\n",
    "            data.append(row)\n",
    "    return data\n",
    "\n",
    "# Usage\n",
    "file_name = 'data/data.csv'\n",
    "data = read_csv_file(file_name)\n",
    "print(data)"
   ]
  },
  {
   "cell_type": "markdown",
   "id": "bc174ef4",
   "metadata": {},
   "source": [
    "### Assignment 14: JSON File Operations\n",
    "\n",
    "Write a function that reads a JSON file named `data.json` and prints its contents as a Python dictionary."
   ]
  },
  {
   "cell_type": "code",
   "execution_count": 56,
   "id": "cb32721f",
   "metadata": {},
   "outputs": [
    {
     "name": "stdout",
     "output_type": "stream",
     "text": [
      "[\n",
      "    {\n",
      "        \"sl\": 1,\n",
      "        \"val\": {\n",
      "            \"name\": \"john\",\n",
      "            \"age\": 30,\n",
      "            \"city\": \"new york\"\n",
      "        }\n",
      "    },\n",
      "    {\n",
      "        \"sl\": 2,\n",
      "        \"val\": {\n",
      "            \"name\": \"jack\",\n",
      "            \"age\": 32,\n",
      "            \"city\": \"london\"\n",
      "        }\n",
      "    },\n",
      "    {\n",
      "        \"sl\": 3,\n",
      "        \"val\": {\n",
      "            \"name\": \"jill\",\n",
      "            \"age\": 28,\n",
      "            \"city\": \"paris\"\n",
      "        }\n",
      "    }\n",
      "]\n"
     ]
    }
   ],
   "source": [
    "import json\n",
    "\n",
    "dummy_json = [\n",
    "    {'sl': 1, 'val': {'name':'john', 'age': 30, 'city': 'new york'}},\n",
    "    {'sl': 2, 'val': {'name':'jack', 'age': 32, 'city': 'london'}},\n",
    "    {'sl': 3, 'val': {'name':'jill', 'age': 28, 'city': 'paris'}}\n",
    "]\n",
    "\n",
    "dummy = json.dumps(dummy_json, indent=4)\n",
    "print(dummy)\n",
    "with open('data/json.json', 'w') as f:\n",
    "    f.write(dummy)"
   ]
  },
  {
   "cell_type": "markdown",
   "metadata": {},
   "source": [
    "### Assignment 15: File Permission Handling\n",
    "\n",
    "Write a function that attempts to read a file named `protected.txt` and handles any permission errors gracefully by printing an error message."
   ]
  },
  {
   "cell_type": "code",
   "execution_count": 60,
   "metadata": {},
   "outputs": [
    {
     "name": "stdout",
     "output_type": "stream",
     "text": [
      "\n"
     ]
    }
   ],
   "source": [
    "import os\n",
    "\n",
    "def read_protected_file():\n",
    "    try:\n",
    "        with open('data/protected.txt', 'r') as file:\n",
    "            contents = file.read()\n",
    "            print(contents)\n",
    "    except PermissionError as e:\n",
    "        print(f\"Error: {e}\")\n",
    "\n",
    "read_protected_file()"
   ]
  }
 ],
 "metadata": {
  "kernelspec": {
   "display_name": "Python 3",
   "language": "python",
   "name": "python3"
  },
  "language_info": {
   "codemirror_mode": {
    "name": "ipython",
    "version": 3
   },
   "file_extension": ".py",
   "mimetype": "text/x-python",
   "name": "python",
   "nbconvert_exporter": "python",
   "pygments_lexer": "ipython3",
   "version": "3.12.2"
  }
 },
 "nbformat": 4,
 "nbformat_minor": 5
}
