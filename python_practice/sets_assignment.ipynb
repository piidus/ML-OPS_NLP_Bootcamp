{
 "cells": [
  {
   "cell_type": "markdown",
   "id": "826b5f33",
   "metadata": {},
   "source": [
    "# Module 3: Data Structures Assignments\n",
    "## Lesson 3.3: Sets"
   ]
  },
  {
   "cell_type": "markdown",
   "id": "ba0d7af4",
   "metadata": {},
   "source": [
    "\n",
    "### Assignment 1: Creating and Accessing Sets\n",
    "\n",
    "Create a set with the first 10 positive integers. Print the set."
   ]
  },
  {
   "cell_type": "code",
   "execution_count": 17,
   "id": "4ec57795",
   "metadata": {},
   "outputs": [
    {
     "name": "stdout",
     "output_type": "stream",
     "text": [
      "{1, 2, 3, 4, 5, 6, 7, 8, 9, 10}\n"
     ]
    }
   ],
   "source": [
    "positive_set = set([x for x in range(1,11)])\n",
    "print(positive_set)\n"
   ]
  },
  {
   "cell_type": "markdown",
   "id": "d6b9eae7",
   "metadata": {},
   "source": [
    "### Assignment 2: Adding and Removing Elements\n",
    "\n",
    "Add the number 11 to the set created in Assignment 1. Then remove the number 1 from the set. Print the modified set."
   ]
  },
  {
   "cell_type": "code",
   "execution_count": 23,
   "id": "e55c2beb",
   "metadata": {},
   "outputs": [
    {
     "name": "stdout",
     "output_type": "stream",
     "text": [
      "{2, 3, 4, 5, 6, 7, 8, 9, 10, 11}\n"
     ]
    }
   ],
   "source": [
    "positive_set.add(11)\n",
    "positive_set.remove(1)\n",
    "print(positive_set)"
   ]
  },
  {
   "cell_type": "markdown",
   "id": "f59b2445",
   "metadata": {},
   "source": [
    "\n",
    "### Assignment 3: Set Operations\n",
    "\n",
    "Create two sets: one with the first 5 positive integers and another with the first 5 even integers. Perform and print the results of union, intersection, difference, and symmetric difference operations on these sets."
   ]
  },
  {
   "cell_type": "code",
   "execution_count": 24,
   "id": "6b4e8c1c",
   "metadata": {},
   "outputs": [
    {
     "name": "stdout",
     "output_type": "stream",
     "text": [
      "{2, 4, 6, 8, 10}\n",
      "{1, 3, 5, 7, 9}\n",
      "set()\n",
      "{2, 4, 6, 8, 10}\n",
      "{1, 2, 3, 4, 5, 6, 7, 8, 9, 10}\n"
     ]
    }
   ],
   "source": [
    "even_set:set = set([x for x in range(1,11) if x%2==0])\n",
    "odd_set:set = set([x for x in range(1,11) if x%2!=0])\n",
    "\n",
    "print(even_set)\n",
    "print(odd_set)\n",
    "print(even_set.intersection(odd_set))\n",
    "print(even_set.difference(odd_set))\n",
    "print(odd_set.symmetric_difference(even_set))"
   ]
  },
  {
   "cell_type": "markdown",
   "id": "7dfb8337",
   "metadata": {},
   "source": [
    "### Assignment 4: Set Comprehensions\n",
    "\n",
    "Create a new set containing the squares of the first 10 positive integers using a set comprehension. Print the new set."
   ]
  },
  {
   "cell_type": "code",
   "execution_count": 25,
   "id": "8ec2d2c5",
   "metadata": {},
   "outputs": [
    {
     "name": "stdout",
     "output_type": "stream",
     "text": [
      "{1, 2, 3, 4, 5, 6, 7, 8, 9, 10}\n"
     ]
    }
   ],
   "source": [
    "new_set:set = set([x for x in range(1,11)])\n",
    "print(new_set)"
   ]
  },
  {
   "cell_type": "markdown",
   "id": "8ec63941",
   "metadata": {},
   "source": [
    "### Assignment 5: Filtering Sets\n",
    "\n",
    "Create a new set containing only the even numbers from the set created in Assignment 1 using a set comprehension. Print the new set."
   ]
  },
  {
   "cell_type": "code",
   "execution_count": 27,
   "id": "f6021318",
   "metadata": {},
   "outputs": [
    {
     "name": "stdout",
     "output_type": "stream",
     "text": [
      "{2, 4, 6, 8, 10}\n"
     ]
    }
   ],
   "source": [
    "comparison_set:set = set([x for x in new_set if x%2==0])\n",
    "print(comparison_set)"
   ]
  },
  {
   "cell_type": "markdown",
   "id": "4b6c3f86",
   "metadata": {},
   "source": [
    "### Assignment 6: Set Methods\n",
    "\n",
    "Create a set with duplicate elements and remove the duplicates using set methods. Print the modified set.\n"
   ]
  },
  {
   "cell_type": "code",
   "execution_count": 29,
   "id": "fc705541",
   "metadata": {},
   "outputs": [
    {
     "name": "stdout",
     "output_type": "stream",
     "text": [
      "[1, 5, 6, 7, 7, 8, 9, 9, 9, 10]\n",
      "{1, 5, 6, 7, 8, 9, 10}\n"
     ]
    }
   ],
   "source": [
    "set_with_duplicates:list = [1,5,6,7,7,8,9,9,9,10]\n",
    "print(set_with_duplicates)\n",
    "remove_duplicates = set(set_with_duplicates)    \n",
    "print(remove_duplicates)"
   ]
  },
  {
   "cell_type": "markdown",
   "id": "d6e58b2c",
   "metadata": {},
   "source": [
    "### Assignment 7: Subsets and Supersets\n",
    "\n",
    "Create two sets: one with the first 5 positive integers and another with the first 3 positive integers. Check if the second set is a subset of the first set and if the first set is a superset of the second set. Print the results."
   ]
  },
  {
   "cell_type": "code",
   "execution_count": 33,
   "id": "3d81cff7",
   "metadata": {},
   "outputs": [
    {
     "name": "stdout",
     "output_type": "stream",
     "text": [
      "False\n",
      "True\n",
      "True\n",
      "False\n"
     ]
    }
   ],
   "source": [
    "first_set:set = set([1,2,3,4,5])\n",
    "second_set:set = set([1,2,3])   \n",
    "\n",
    "print(first_set.issubset(second_set))\n",
    "print(first_set.issuperset(second_set))\n",
    "print(second_set.issubset(first_set))\n",
    "print(second_set.issuperset(first_set))"
   ]
  },
  {
   "cell_type": "markdown",
   "id": "268702b0",
   "metadata": {},
   "source": [
    "### Assignment 8: Frozenset\n",
    "\n",
    "Create a frozenset with the first 5 positive integers. Print the frozenset."
   ]
  },
  {
   "cell_type": "code",
   "execution_count": 35,
   "id": "d502c2e7",
   "metadata": {},
   "outputs": [
    {
     "name": "stdout",
     "output_type": "stream",
     "text": [
      "frozenset({1, 2, 3, 4, 5})\n",
      "<class 'frozenset'>\n"
     ]
    }
   ],
   "source": [
    "my_frozenset = frozenset({1, 2, 3, 4, 5})\n",
    "\n",
    "# Print the frozenset\n",
    "print(my_frozenset)\n",
    "print(type(my_frozenset))"
   ]
  },
  {
   "cell_type": "markdown",
   "id": "191c88be",
   "metadata": {},
   "source": [
    "### Assignment 9: Set and List Conversion\n",
    "\n",
    "Create a set with the first 5 positive integers. Convert it to a list, append the number 6, and convert it back to a set. Print the resulting set."
   ]
  },
  {
   "cell_type": "code",
   "execution_count": 36,
   "id": "f027dcf0",
   "metadata": {},
   "outputs": [
    {
     "name": "stdout",
     "output_type": "stream",
     "text": [
      "set-9-list [1, 2, 3, 4, 5]\n",
      "[1, 2, 3, 4, 5, 6]\n",
      "{1, 2, 3, 4, 5, 6}\n"
     ]
    }
   ],
   "source": [
    "set_9 = {1,2,3,4,5}\n",
    "set_9_list = list(set_9)\n",
    "print('set-9-list',set_9_list)\n",
    "set_9_list.append(6)\n",
    "print(set_9_list)\n",
    "set_9 = set(set_9_list)\n",
    "print(set_9)"
   ]
  },
  {
   "cell_type": "markdown",
   "id": "ecf4126f",
   "metadata": {},
   "source": [
    "\n",
    "\n",
    "\n",
    "### Assignment 10: Set and Dictionary\n",
    "\n",
    "Create a dictionary with set keys and integer values. Print the dictionary."
   ]
  },
  {
   "cell_type": "code",
   "execution_count": 37,
   "id": "410d6697",
   "metadata": {},
   "outputs": [
    {
     "name": "stdout",
     "output_type": "stream",
     "text": [
      "{frozenset({1, 2}): 10, frozenset({3, 4}): 20}\n"
     ]
    }
   ],
   "source": [
    "# Create a dictionary with set keys and integer values\n",
    "my_dict = {frozenset({1, 2}): 10, frozenset({3, 4}): 20}\n",
    "\n",
    "# Print the dictionary\n",
    "print(my_dict)"
   ]
  },
  {
   "cell_type": "markdown",
   "id": "868dcec0",
   "metadata": {},
   "source": [
    "\n",
    "### Assignment 11: Iterating Over Sets\n",
    "\n",
    "Create a set and iterate over the elements, printing each element."
   ]
  },
  {
   "cell_type": "code",
   "execution_count": 40,
   "id": "8871dd6b",
   "metadata": {},
   "outputs": [
    {
     "name": "stdout",
     "output_type": "stream",
     "text": [
      "1\n",
      "5\n",
      "7\n",
      "8\n",
      "9\n",
      "10\n"
     ]
    }
   ],
   "source": [
    "new_set_11 = {1,5,7,8,9,10}\n",
    "x =[print(x) for x in new_set_11]"
   ]
  },
  {
   "cell_type": "markdown",
   "id": "0ac66bb4",
   "metadata": {},
   "source": [
    "### Assignment 12: Removing Elements from Sets\n",
    "\n",
    "Create a set and remove elements from it until it is empty. Print the set after each removal."
   ]
  },
  {
   "cell_type": "code",
   "execution_count": 41,
   "id": "5b582530",
   "metadata": {},
   "outputs": [
    {
     "name": "stdout",
     "output_type": "stream",
     "text": [
      "{1, 2, 3, 4, 5, 6, 7, 8, 9, 10}\n",
      "set()\n"
     ]
    }
   ],
   "source": [
    "new_set_12:set = set([x for x in range(1,11)])\n",
    "print(new_set_12)\n",
    "new_set_12.clear()\n",
    "print(new_set_12)"
   ]
  },
  {
   "cell_type": "markdown",
   "id": "1cef2d88",
   "metadata": {},
   "source": [
    "### Assignment 13: Set Symmetric Difference Update\n",
    "\n",
    "Create two sets and update the first set with the symmetric difference of the two sets. Print the modified first set."
   ]
  },
  {
   "cell_type": "code",
   "execution_count": 43,
   "id": "185a1a01",
   "metadata": {},
   "outputs": [
    {
     "name": "stdout",
     "output_type": "stream",
     "text": [
      "{1, 2, 3, 4, 5}\n",
      "{4, 5}\n"
     ]
    }
   ],
   "source": [
    "set_13_1 = {1,2,3,4,5}\n",
    "set_13_2 = {1,2,3}\n",
    "p = set_13_1.symmetric_difference(set_13_2)\n",
    "print(set_13_1)\n",
    "print(p)"
   ]
  },
  {
   "cell_type": "markdown",
   "id": "6f0ab4e7",
   "metadata": {},
   "source": [
    "### Assignment 14: Set Membership Testing\n",
    "\n",
    "Create a set and test if certain elements are present in the set. Print the results."
   ]
  },
  {
   "cell_type": "code",
   "execution_count": 48,
   "id": "a110f50c",
   "metadata": {},
   "outputs": [
    {
     "name": "stdout",
     "output_type": "stream",
     "text": [
      "{1, 2, 4, 5, 6, 7, 9, 88}\n",
      "{5}\n",
      "set()\n"
     ]
    }
   ],
   "source": [
    "set_14:set = set([5,7,9,88,5,6,2,1,4,6])\n",
    "print(set_14)\n",
    "print(set_14.intersection([5]))\n",
    "print(set_14.intersection([10]))"
   ]
  },
  {
   "cell_type": "markdown",
   "metadata": {},
   "source": [
    "\n",
    "\n",
    "### Assignment 15: Set of Tuples\n",
    "\n",
    "Create a set containing tuples, where each tuple contains two elements. Print the set."
   ]
  },
  {
   "cell_type": "code",
   "execution_count": 52,
   "metadata": {},
   "outputs": [
    {
     "name": "stdout",
     "output_type": "stream",
     "text": [
      "{(1, 1), (1, 2), (2, 1), (2, 2)}\n"
     ]
    }
   ],
   "source": [
    "set_15:set = set([(x,y) for x in range(1,3) for y in range(1,3)])\n",
    "print(set_15)"
   ]
  },
  {
   "cell_type": "code",
   "execution_count": null,
   "id": "2bc4a025",
   "metadata": {},
   "outputs": [],
   "source": []
  }
 ],
 "metadata": {
  "kernelspec": {
   "display_name": "Python 3",
   "language": "python",
   "name": "python3"
  },
  "language_info": {
   "codemirror_mode": {
    "name": "ipython",
    "version": 3
   },
   "file_extension": ".py",
   "mimetype": "text/x-python",
   "name": "python",
   "nbconvert_exporter": "python",
   "pygments_lexer": "ipython3",
   "version": "3.12.2"
  }
 },
 "nbformat": 4,
 "nbformat_minor": 5
}
